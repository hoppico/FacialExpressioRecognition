{
 "cells": [
  {
   "cell_type": "markdown",
   "metadata": {
    "colab_type": "text",
    "id": "7mB-O_VvhJXQ"
   },
   "source": [
    "# **Facial Expressions Saturdays Ai**\n",
    "\n",
    "Proyecto de la primera edición de Donostia de Saturdays Ai 2020.\n"
   ]
  },
  {
   "cell_type": "markdown",
   "metadata": {},
   "source": [
    "1. Importación de librerías"
   ]
  },
  {
   "cell_type": "code",
   "execution_count": 2,
   "metadata": {},
   "outputs": [],
   "source": [
    "import numpy as np \n",
    "import pandas as pd\n",
    "import os\n",
    "import cv2\n",
    "from tqdm import tqdm\n",
    "import tensorflow as tf\n",
    "from tensorflow import keras\n",
    "from keras.utils import np_utils\n",
    "from skimage import io\n",
    "\n",
    "\n",
    "## Added libraries by Hooshiar\n",
    "from skimage.io import imread\n",
    "from skimage.transform import resize\n",
    "from skimage.feature import hog\n",
    "from skimage import exposure\n",
    "import matplotlib.pyplot as plt\n",
    "from skimage import img_as_ubyte\n",
    "from skimage.util import img_as_float\n",
    "\n",
    "# these lib are for applying mask\n",
    "import dlib\n",
    "import numpy as np\n",
    "import imutils\n",
    "#import cMake\n",
    "# this lib are to compute Haar Wavelet of an image\n",
    "import pywt\n",
    "\n",
    "\n",
    "# settings: Load from the pre processed data:\n",
    "# in case the images are preprocessed, they will be loaded from a specific folder, rather than being generated\n",
    "loadPreprocessed = False;\n",
    "\n",
    "featureMethod = 0   # 0 is for HoG, 1 is for Haar\n",
    "\n",
    "loadDir = \"data\"\n",
    "\n",
    "if loadPreprocessed:\n",
    "    loadDir = \"maskdata\""
   ]
  },
  {
   "cell_type": "code",
   "execution_count": 3,
   "metadata": {},
   "outputs": [
    {
     "name": "stdout",
     "output_type": "stream",
     "text": [
      "2.3.0\n"
     ]
    }
   ],
   "source": [
    "print(tf.version.VERSION)"
   ]
  },
  {
   "cell_type": "code",
   "execution_count": 4,
   "metadata": {},
   "outputs": [],
   "source": [
    "# this function is to apply mask on the input images\n",
    "def maskify(img):\n",
    "    ## set directories\n",
    "    #os.chdir(\"C:\\Users\\ZolfaghH\\Downloads\\facial\\Facial_Expression_Saturdays-master\")\n",
    "    #path =\"predict/4disguested.jpg\"\n",
    "\n",
    "    #Initialize color [color_type] = (Blue, Green, Red)\n",
    "    color_blue = (254,207,110)\n",
    "    color_cyan = (255,200,0)\n",
    "    color_black = (0, 0, 0)\n",
    "\n",
    "    # Use input () function to capture from user requirements for mask type and mask colour\n",
    "    choice1 = 1 #input(\"Please select the choice of mask color\\nEnter 1 for blue\\nEnter 2 for black:\\n\")\n",
    "    #choice1 = int(choice1)\n",
    "\n",
    "    if choice1 == 1:\n",
    "        choice1 = color_blue\n",
    "        #print('You selected mask color = blue')\n",
    "    elif choice1 == 2:\n",
    "        choice1 = color_black\n",
    "        #print('You selected mask color = black')\n",
    "    else:\n",
    "        print(\"invalid selection, please select again.\")\n",
    "        #input(\"Please select the choice of mask color\\nEnter 1 for blue\\nEnter 2 for black :\\n\")\n",
    "\n",
    "\n",
    "    choice2 = 3 #input(\"Please enter choice of mask type coverage \\nEnter 1 for high \\nEnter 2 for medium \\nEnter 3 for low :\\n\")\n",
    "    #choice2 = int(choice2)\n",
    "\n",
    "\n",
    "    # print(choice2)\n",
    "\n",
    "\n",
    "\n",
    "    # Loading the image and resizing, converting it to grayscale\n",
    "    #img= cv2.imread(path)\n",
    "    #img = imutils.resize(img, width = 500)\n",
    "    \n",
    "    if(len(img.shape)>2):\n",
    "        gray=cv2.cvtColor(img, cv2.COLOR_BGR2GRAY)\n",
    "    else:\n",
    "        gray = img    \n",
    "\n",
    "    # Initialize dlib's face detector\n",
    "    detector = dlib.get_frontal_face_detector()\n",
    "\n",
    "    \"\"\"\n",
    "    Detecting faces in the grayscale image and creating an object - faces to store the list of bounding rectangles coordinates\n",
    "    The \"1\" in the second argument indicates that we should upsample the image 1 time.  \n",
    "    This will make everything bigger and allow us to detect more faces\n",
    "    \"\"\"\n",
    "\n",
    "    faces = detector(gray, 1)\n",
    "\n",
    "    # printing the coordinates of the bounding rectangles\n",
    "    #print(faces)\n",
    "    #print(\"Number of faces detected: \", len(faces))\n",
    "\n",
    "    \"\"\"\n",
    "    # Using a for loop in order to extract the specific coordinates (x1,x2,y1,y2)\n",
    "    for face in faces:\n",
    "      x1 = face.left()\n",
    "      y1 = face.top()\n",
    "      x2 = face.right()\n",
    "      y2 = face.bottom()\n",
    "      # Drawing a rectangle around the face detected\n",
    "      cv2.rectangle(img, (x1,y1), (x2,y2),(0,255,0),3)\n",
    "    cv2.imshow(\"image\", img)\n",
    "    cv2.waitKey(0)\n",
    "    cv2.destroyAllWindows()\n",
    "    \"\"\"\n",
    "\n",
    "    \"\"\"\n",
    "    Detecting facial landmarks using facial landmark predictor dlib.shape_predictor from dlib library\n",
    "    This shape prediction method requires the file called \"shape_predictor_68_face_landmarks.dat\" to be downloaded\n",
    "    Source of file: http://dlib.net/files/shape_predictor_68_face_landmarks.dat.bz2\n",
    "    \"\"\"\n",
    "    # Path of file\n",
    "    p = \"shape_predictor_68_face_landmarks.dat\"\n",
    "    # Initialize dlib's shape predictor\n",
    "    predictor = dlib.shape_predictor(p)\n",
    "\n",
    "    # Get the shape using the predictor\n",
    "    #img3=cv2.imread(path)\n",
    "    for face in faces:\n",
    "        #img3=cv2.imread(path)\n",
    "        landmarks = predictor(gray, face)\n",
    "\n",
    "        # for n in range(0,68):\n",
    "        #     x = landmarks.part(n).x\n",
    "        #     y = landmarks.part(n).y\n",
    "        #     img_landmark = cv2.circle(img, (x, y), 4, (0, 0, 255), -1)\n",
    "\n",
    "\n",
    "        points = []\n",
    "        for i in range(1, 16):\n",
    "            point = [landmarks.part(i).x, landmarks.part(i).y]\n",
    "            points.append(point)\n",
    "        # print(points)\n",
    "\n",
    "        # Coordinates for the additional 3 points for wide, high coverage mask - in sequence\n",
    "        mask_a = [((landmarks.part(42).x), (landmarks.part(15).y)),\n",
    "                  ((landmarks.part(27).x), (landmarks.part(27).y)),\n",
    "                  ((landmarks.part(39).x), (landmarks.part(1).y))]\n",
    "\n",
    "        # Coordinates for the additional point for wide, medium coverage mask - in sequence\n",
    "        mask_c = [((landmarks.part(29).x), (landmarks.part(29).y))]\n",
    "\n",
    "        # Coordinates for the additional 5 points for wide, low coverage mask (lower nose points) - in sequence\n",
    "        mask_e = [((landmarks.part(35).x), (landmarks.part(35).y)),\n",
    "                  ((landmarks.part(34).x), (landmarks.part(34).y)),\n",
    "                  ((landmarks.part(33).x), (landmarks.part(33).y)),\n",
    "                  ((landmarks.part(32).x), (landmarks.part(32).y)),\n",
    "                  ((landmarks.part(31).x), (landmarks.part(31).y))]\n",
    "\n",
    "        fmask_a = points + mask_a\n",
    "        fmask_c = points + mask_c\n",
    "        fmask_e = points + mask_e\n",
    "\n",
    "        # mask_type = {1: fmask_a, 2: fmask_c, 3: fmask_e}\n",
    "        # mask_type[choice2]\n",
    "\n",
    "\n",
    "        # Using Python OpenCV – cv2.polylines() method to draw mask outline for [mask_type]:\n",
    "        # fmask_a = wide, high coverage mask,\n",
    "        # fmask_c = wide, medium coverage mask,\n",
    "        # fmask_e  = wide, low coverage mask\n",
    "\n",
    "        fmask_a = np.array(fmask_a, dtype=np.int32)\n",
    "        fmask_c = np.array(fmask_c, dtype=np.int32)\n",
    "        fmask_e = np.array(fmask_e, dtype=np.int32)\n",
    "\n",
    "        mask_type = {1: fmask_a, 2: fmask_c, 3: fmask_e}\n",
    "        mask_type[choice2]\n",
    "\n",
    "\n",
    "        # change parameter [mask_type] and color_type for various combination\n",
    "        img2 = cv2.polylines(img, [mask_type[choice2]], True, choice1, thickness=2, lineType=cv2.LINE_8)\n",
    "\n",
    "        # Using Python OpenCV – cv2.fillPoly() method to fill mask\n",
    "        # change parameter [mask_type] and color_type for various combination\n",
    "        img3 = cv2.fillPoly(img2, [mask_type[choice2]], choice1, lineType=cv2.LINE_AA)\n",
    "        \n",
    "        #convert to grayscale\n",
    "        \n",
    "    try:\n",
    "        if(len(img3.shape)>2):\n",
    "            img3 = cv2.cvtColor(img3, cv2.COLOR_BGR2GRAY)\n",
    "    except UnboundLocalError:\n",
    "        img3=cv2.imread(path)\n",
    "        return img3, False;\n",
    "        \n",
    "            \n",
    "\n",
    "    # cv2.imshow(\"image with mask outline\", img2)\n",
    "    #plt.imshow(img3)\n",
    "\n",
    "    \n",
    "    return img3, True;"
   ]
  },
  {
   "cell_type": "code",
   "execution_count": null,
   "metadata": {},
   "outputs": [],
   "source": []
  },
  {
   "cell_type": "code",
   "execution_count": 5,
   "metadata": {},
   "outputs": [],
   "source": [
    "def computeHaar(img):\n",
    "    h, w = img.shape\n",
    "    \n",
    "    img = cv2.resize(img, (w*2,h*2))\n",
    "    # Convert to float for more resolution for use with pywt\n",
    "    img = np.float32(img)\n",
    "    img /= 255\n",
    "\n",
    "    # Wavelet transform of image,\n",
    "    coeffs2 = pywt.dwt2(img, 'haar')\n",
    "    LL, (LH, HL, HH) = coeffs2\n",
    "    img = LH + HL + HH   # summation of horizental an vertical and diagonal\n",
    "\n",
    "    #fig = plt.figure(figsize=(12, 3))\n",
    "    #for i, a in enumerate([LL, LH, HL, HH]):\n",
    "    #    ax = fig.add_subplot(1, 4, i + 1)\n",
    "    #    ax.imshow(a, interpolation=\"nearest\", cmap=plt.cm.gray)\n",
    "    #    ax.set_title(titles[i], fontsize=10)\n",
    "    #    ax.set_xticks([])\n",
    "    #    ax.set_yticks([])\n",
    "\n",
    "    #fig.tight_layout()\n",
    "    #plt.show()\n",
    "\n",
    "    img = cv2.normalize(img, None, alpha = 0, beta = 255, norm_type = cv2.NORM_MINMAX, dtype = cv2.CV_32F)\n",
    "    img = np.uint8(img)\n",
    "\n",
    "    #plt.imshow(img)\n",
    "    #cv2.imwrite(\"HaarWavelet.jpg\", img)\n",
    "\n",
    "    #print(img[0,0])\n",
    "    \n",
    "    return img\n",
    "\n",
    "def computeHoG(img):\n",
    "    fd, hog_image = hog(img, orientations=9, pixels_per_cell=(2, 2),cells_per_block=(1, 1), visualize=True, multichannel=False)\n",
    "    hog_image = cv2.normalize(hog_image, None, alpha = 0, beta = 255, norm_type = cv2.NORM_MINMAX, dtype = cv2.CV_32F)\n",
    "    hog_image = np.uint8(hog_image)\n",
    "    return hog_image"
   ]
  },
  {
   "cell_type": "code",
   "execution_count": 6,
   "metadata": {},
   "outputs": [
    {
     "ename": "NameError",
     "evalue": "name 'faceFeatures' is not defined",
     "output_type": "error",
     "traceback": [
      "\u001b[1;31m---------------------------------------------------------------------------\u001b[0m",
      "\u001b[1;31mNameError\u001b[0m                                 Traceback (most recent call last)",
      "\u001b[1;32m<ipython-input-6-621706b23b71>\u001b[0m in \u001b[0;36m<module>\u001b[1;34m\u001b[0m\n\u001b[0;32m      9\u001b[0m \u001b[0mfeat_img\u001b[0m \u001b[1;33m=\u001b[0m \u001b[0mcomputeHaar\u001b[0m\u001b[1;33m(\u001b[0m\u001b[0mimg\u001b[0m\u001b[1;33m)\u001b[0m\u001b[1;33m\u001b[0m\u001b[1;33m\u001b[0m\u001b[0m\n\u001b[0;32m     10\u001b[0m \u001b[1;33m\u001b[0m\u001b[0m\n\u001b[1;32m---> 11\u001b[1;33m \u001b[0mimg\u001b[0m\u001b[1;33m,\u001b[0m \u001b[0mstat\u001b[0m \u001b[1;33m=\u001b[0m \u001b[0mfaceFeatures\u001b[0m\u001b[1;33m(\u001b[0m\u001b[0mimg\u001b[0m\u001b[1;33m,\u001b[0m \u001b[0mfeat_img\u001b[0m\u001b[1;33m)\u001b[0m\u001b[1;33m\u001b[0m\u001b[1;33m\u001b[0m\u001b[0m\n\u001b[0m\u001b[0;32m     12\u001b[0m \u001b[0mprint\u001b[0m\u001b[1;33m(\u001b[0m\u001b[0mstat\u001b[0m\u001b[1;33m)\u001b[0m\u001b[1;33m\u001b[0m\u001b[1;33m\u001b[0m\u001b[0m\n\u001b[0;32m     13\u001b[0m \u001b[0mplt\u001b[0m\u001b[1;33m.\u001b[0m\u001b[0mimshow\u001b[0m\u001b[1;33m(\u001b[0m\u001b[0mimg\u001b[0m\u001b[1;33m)\u001b[0m\u001b[1;33m\u001b[0m\u001b[1;33m\u001b[0m\u001b[0m\n",
      "\u001b[1;31mNameError\u001b[0m: name 'faceFeatures' is not defined"
     ]
    }
   ],
   "source": [
    "#  optional section: To validate the function of faceFeatures\n",
    "path = \"predict/3surprised.jpg\"\n",
    "img = imread(path)\n",
    "\n",
    "if(len(img.shape)>2):\n",
    "    img = cv2.cvtColor(img, cv2.COLOR_BGR2GRAY)\n",
    "#img, stat = maskify(img)\n",
    "\n",
    "feat_img = computeHaar(img)\n",
    "\n",
    "img, stat = faceFeatures(img, feat_img)\n",
    "print(stat)\n",
    "plt.imshow(img)"
   ]
  },
  {
   "cell_type": "markdown",
   "metadata": {},
   "source": [
    "2. Importación data training"
   ]
  },
  {
   "cell_type": "code",
   "execution_count": 9,
   "metadata": {},
   "outputs": [
    {
     "name": "stderr",
     "output_type": "stream",
     "text": [
      "100%|██████████████████████████████████████████████████████████████████████████████| 3995/3995 [09:32<00:00,  6.97it/s]\n",
      "100%|████████████████████████████████████████████████████████████████████████████████| 436/436 [01:01<00:00,  7.08it/s]\n",
      "100%|██████████████████████████████████████████████████████████████████████████████| 4097/4097 [09:15<00:00,  7.38it/s]\n",
      "100%|██████████████████████████████████████████████████████████████████████████████| 7215/7215 [16:09<00:00,  7.44it/s]\n",
      "100%|██████████████████████████████████████████████████████████████████████████████| 4830/4830 [10:02<00:00,  8.02it/s]\n",
      "100%|██████████████████████████████████████████████████████████████████████████████| 3171/3171 [06:34<00:00,  8.05it/s]\n",
      "100%|██████████████████████████████████████████████████████████████████████████████| 4965/4965 [10:19<00:00,  8.02it/s]\n"
     ]
    }
   ],
   "source": [
    "#feature extraction on training data\n",
    "\n",
    "loc1 = loadDir + '/train/0'\n",
    "loc2 = loadDir + '/train/1'\n",
    "loc3 = loadDir + '/train/2'\n",
    "loc4 = loadDir + '/train/3'\n",
    "loc5 = loadDir + '/train/4'\n",
    "loc6 = loadDir + '/train/5'\n",
    "loc7 = loadDir + '/train/6'\n",
    "\n",
    "features = []\n",
    "stat=True\n",
    "\n",
    "if loadPreprocessed:\n",
    "\n",
    "    for i in tqdm(os.listdir(loc1)):\n",
    "        features.append(cv2.imread(os.path.join(loc1,i),0))\n",
    "\n",
    "    for i in tqdm(os.listdir(loc2)):\n",
    "        features.append(cv2.imread(os.path.join(loc2,i),0))\n",
    "\n",
    "    for i in tqdm(os.listdir(loc3)):\n",
    "        features.append(cv2.imread(os.path.join(loc3,i),0))\n",
    "\n",
    "    for i in tqdm(os.listdir(loc4)):\n",
    "        features.append(cv2.imread(os.path.join(loc4,i),0))\n",
    "\n",
    "    for i in tqdm(os.listdir(loc5)):\n",
    "        features.append(cv2.imread(os.path.join(loc5,i),0))\n",
    "\n",
    "    for i in tqdm(os.listdir(loc6)):\n",
    "        features.append(cv2.imread(os.path.join(loc6,i),0))\n",
    "\n",
    "    for i in tqdm(os.listdir(loc7)):\n",
    "        features.append(cv2.imread(os.path.join(loc7,i),0))\n",
    "\n",
    "else:\n",
    "    \n",
    "##### modified code by Hooshiar to read image and compute HoG    \n",
    "    for i in tqdm(os.listdir(loc1)):\n",
    "        path = os.path.join(loc1,i)\n",
    "        img = imread(path)\n",
    "        # maskify\n",
    "       # img, stat = maskify(img)\n",
    "        \n",
    "        if stat==True:\n",
    "            if(len(img.shape)>2):\n",
    "                img = cv2.cvtColor(img, cv2.COLOR_BGR2GRAY)\n",
    "\n",
    "            hog_img = computeHoG(img)\n",
    "            haar_img = computeHaar(img)\n",
    "\n",
    "            img_comb = np.zeros((48,48,3), np.uint8)\n",
    "            img_comb[:,:,0] = img\n",
    "            img_comb[:,:,1] = hog_img\n",
    "            img_comb[:,:,2] = haar_img\n",
    "\n",
    "           # cv2.imwrite(\"mask\"+path, img_comb)\n",
    "            features.append(img_comb)\n",
    "\n",
    "    for i in tqdm(os.listdir(loc2)):\n",
    "        path = os.path.join(loc2,i)\n",
    "        img = imread(path)\n",
    "        # maskify\n",
    "        #img, stat = maskify(img)\n",
    "        \n",
    "        if stat==True:\n",
    "            if(len(img.shape)>2):\n",
    "                img = cv2.cvtColor(img, cv2.COLOR_BGR2GRAY)\n",
    "\n",
    "            hog_img = computeHoG(img)\n",
    "            haar_img = computeHaar(img)\n",
    "\n",
    "            img_comb = np.zeros((48,48,3), np.uint8)\n",
    "            img_comb[:,:,0] = img\n",
    "            img_comb[:,:,1] = hog_img\n",
    "            img_comb[:,:,2] = haar_img\n",
    "\n",
    "           # cv2.imwrite(\"mask\"+path, img_comb)\n",
    "            features.append(img_comb)\n",
    "\n",
    "    for i in tqdm(os.listdir(loc3)):\n",
    "        path = os.path.join(loc3,i)\n",
    "        img = imread(path)\n",
    "        # maskify\n",
    "       # img, stat = maskify(img)\n",
    "        \n",
    "        if stat==True:\n",
    "            if(len(img.shape)>2):\n",
    "                img = cv2.cvtColor(img, cv2.COLOR_BGR2GRAY)\n",
    "\n",
    "            hog_img = computeHoG(img)\n",
    "            haar_img = computeHaar(img)\n",
    "\n",
    "            img_comb = np.zeros((48,48,3), np.uint8)\n",
    "            img_comb[:,:,0] = img\n",
    "            img_comb[:,:,1] = hog_img\n",
    "            img_comb[:,:,2] = haar_img\n",
    "\n",
    "           # cv2.imwrite(\"mask\"+path, img_comb)\n",
    "            features.append(img_comb)\n",
    "\n",
    "    for i in tqdm(os.listdir(loc4)):\n",
    "        path = os.path.join(loc4,i)\n",
    "        img = imread(path)\n",
    "        # maskify\n",
    "       # img, stat = maskify(img)\n",
    "        \n",
    "        if stat==True:\n",
    "            if(len(img.shape)>2):\n",
    "                img = cv2.cvtColor(img, cv2.COLOR_BGR2GRAY)\n",
    "\n",
    "            hog_img = computeHoG(img)\n",
    "            haar_img = computeHaar(img)\n",
    "\n",
    "            img_comb = np.zeros((48,48,3), np.uint8)\n",
    "            img_comb[:,:,0] = img\n",
    "            img_comb[:,:,1] = hog_img\n",
    "            img_comb[:,:,2] = haar_img\n",
    "\n",
    "           # cv2.imwrite(\"mask\"+path, img_comb)\n",
    "            features.append(img_comb)\n",
    "\n",
    "    for i in tqdm(os.listdir(loc5)):\n",
    "        path = os.path.join(loc5,i)\n",
    "        img = imread(path)\n",
    "        # maskify\n",
    "        #img, stat = maskify(img)\n",
    "        \n",
    "        if stat==True:\n",
    "            if(len(img.shape)>2):\n",
    "                img = cv2.cvtColor(img, cv2.COLOR_BGR2GRAY)\n",
    "\n",
    "            hog_img = computeHoG(img)\n",
    "            haar_img = computeHaar(img)\n",
    "\n",
    "            img_comb = np.zeros((48,48,3), np.uint8)\n",
    "            img_comb[:,:,0] = img\n",
    "            img_comb[:,:,1] = hog_img\n",
    "            img_comb[:,:,2] = haar_img\n",
    "\n",
    "           # cv2.imwrite(\"mask\"+path, img_comb)\n",
    "            features.append(img_comb)\n",
    "\n",
    "    for i in tqdm(os.listdir(loc6)):\n",
    "        path = os.path.join(loc6,i)\n",
    "        img = imread(path)\n",
    "        # maskify\n",
    "       # img, stat = maskify(img)\n",
    "        \n",
    "        if stat==True:\n",
    "            if(len(img.shape)>2):\n",
    "                img = cv2.cvtColor(img, cv2.COLOR_BGR2GRAY)\n",
    "\n",
    "            hog_img = computeHoG(img)\n",
    "            haar_img = computeHaar(img)\n",
    "\n",
    "            img_comb = np.zeros((48,48,3), np.uint8)\n",
    "            img_comb[:,:,0] = img\n",
    "            img_comb[:,:,1] = hog_img\n",
    "            img_comb[:,:,2] = haar_img\n",
    "\n",
    "         #   cv2.imwrite(\"mask\"+path, img_comb)\n",
    "            features.append(img_comb)\n",
    "\n",
    "    for i in tqdm(os.listdir(loc7)):\n",
    "        path = os.path.join(loc7,i)\n",
    "        img = imread(path)\n",
    "        # maskify\n",
    "       # img, stat = maskify(img)\n",
    "        \n",
    "        if stat==True:\n",
    "            if(len(img.shape)>2):\n",
    "                img = cv2.cvtColor(img, cv2.COLOR_BGR2GRAY)\n",
    "\n",
    "            hog_img = computeHoG(img)\n",
    "            haar_img = computeHaar(img)\n",
    "\n",
    "            img_comb = np.zeros((48,48,3), np.uint8)\n",
    "            img_comb[:,:,0] = img\n",
    "            img_comb[:,:,1] = hog_img\n",
    "            img_comb[:,:,2] = haar_img\n",
    "\n",
    "          #  cv2.imwrite(\"mask\"+path, img_comb)\n",
    "            features.append(img_comb)\n"
   ]
  },
  {
   "cell_type": "code",
   "execution_count": 10,
   "metadata": {},
   "outputs": [],
   "source": [
    "labels = []\n",
    "\n",
    "for i in os.listdir('data/train/0'):\n",
    "    labels.append(0)\n",
    "for i in os.listdir('data/train/1'):\n",
    "    labels.append(1)\n",
    "for i in os.listdir('data/train/2'):\n",
    "    labels.append(2)\n",
    "for i in os.listdir('data/train/3'):\n",
    "    labels.append(3)\n",
    "for i in os.listdir('data/train/4'):\n",
    "    labels.append(4)\n",
    "for i in os.listdir('data/train/5'):\n",
    "    labels.append(5)\n",
    "for i in os.listdir('data/train/6'):\n",
    "    labels.append(6)"
   ]
  },
  {
   "cell_type": "code",
   "execution_count": 11,
   "metadata": {
    "scrolled": true
   },
   "outputs": [
    {
     "name": "stdout",
     "output_type": "stream",
     "text": [
      "[141   0 113]\n"
     ]
    },
    {
     "data": {
      "text/plain": [
       "<matplotlib.image.AxesImage at 0x28659835ac8>"
      ]
     },
     "execution_count": 11,
     "metadata": {},
     "output_type": "execute_result"
    },
    {
     "data": {
      "image/png": "[encoded data removed]",
      "text/plain": [
       "<Figure size 432x288 with 1 Axes>"
      ]
     },
     "metadata": {
      "needs_background": "light"
     },
     "output_type": "display_data"
    }
   ],
   "source": [
    "print(features[0][20,20])\n",
    "plt.imshow(features[0])"
   ]
  },
  {
   "cell_type": "code",
   "execution_count": 12,
   "metadata": {},
   "outputs": [
    {
     "name": "stderr",
     "output_type": "stream",
     "text": [
      "100%|████████████████████████████████████████████████████████████████████████████████| 491/491 [01:00<00:00,  8.08it/s]\n",
      "100%|██████████████████████████████████████████████████████████████████████████████████| 55/55 [00:06<00:00,  8.12it/s]\n",
      "100%|████████████████████████████████████████████████████████████████████████████████| 529/529 [01:05<00:00,  8.08it/s]\n",
      "100%|████████████████████████████████████████████████████████████████████████████████| 879/879 [01:48<00:00,  8.14it/s]\n",
      "100%|████████████████████████████████████████████████████████████████████████████████| 594/594 [01:13<00:00,  8.12it/s]\n",
      "100%|████████████████████████████████████████████████████████████████████████████████| 416/416 [00:51<00:00,  8.14it/s]\n",
      "100%|████████████████████████████████████████████████████████████████████████████████| 626/626 [01:17<00:00,  8.06it/s]\n"
     ]
    }
   ],
   "source": [
    "#feature extraction on testing data\n",
    "\n",
    "loc1 = loadDir + '/test/0'\n",
    "loc2 = loadDir + '/test/1'\n",
    "loc3 = loadDir + '/test/2'\n",
    "loc4 = loadDir + '/test/3'\n",
    "loc5 = loadDir + '/test/4'\n",
    "loc6 = loadDir + '/test/5'\n",
    "loc7 = loadDir + '/test/6'\n",
    "\n",
    "\n",
    "test_features = []\n",
    "stat=True\n",
    "\n",
    "if loadPreprocessed:\n",
    "\n",
    "    for i in tqdm(os.listdir(loc1)):\n",
    "        test_features.append(cv2.imread(os.path.join(loc1,i),0))\n",
    "\n",
    "    for i in tqdm(os.listdir(loc2)):\n",
    "        test_features.append(cv2.imread(os.path.join(loc2,i),0))\n",
    "\n",
    "    for i in tqdm(os.listdir(loc3)):\n",
    "        test_features.append(cv2.imread(os.path.join(loc3,i),0))\n",
    "\n",
    "    for i in tqdm(os.listdir(loc4)):\n",
    "        test_features.append(cv2.imread(os.path.join(loc4,i),0))\n",
    "\n",
    "    for i in tqdm(os.listdir(loc5)):\n",
    "        test_features.append(cv2.imread(os.path.join(loc5,i),0))\n",
    "\n",
    "    for i in tqdm(os.listdir(loc6)):\n",
    "        test_features.append(cv2.imread(os.path.join(loc6,i),0))\n",
    "\n",
    "    for i in tqdm(os.listdir(loc7)):\n",
    "        test_features.append(cv2.imread(os.path.join(loc7,i),0))\n",
    "\n",
    "else:\n",
    "    \n",
    "    # Modified by Hooshiar to generate HoGof image and just use it for testing\n",
    "\n",
    "    for i in tqdm(os.listdir(loc1)):\n",
    "        path = os.path.join(loc1,i)\n",
    "        img = imread(path)\n",
    "        # maskify\n",
    "       # img, stat = maskify(img)\n",
    "        \n",
    "        if stat==True:\n",
    "            if(len(img.shape)>2):\n",
    "                img = cv2.cvtColor(img, cv2.COLOR_BGR2GRAY)\n",
    "\n",
    "            hog_img = computeHoG(img)\n",
    "            haar_img = computeHaar(img)\n",
    "\n",
    "            img_comb = np.zeros((48,48,3), np.uint8)\n",
    "            img_comb[:,:,0] = img\n",
    "            img_comb[:,:,1] = hog_img\n",
    "            img_comb[:,:,2] = haar_img\n",
    "\n",
    "         #   cv2.imwrite(\"mask\"+path, img_comb)\n",
    "            test_features.append(img_comb)\n",
    "\n",
    "    for i in tqdm(os.listdir(loc2)):\n",
    "        path = os.path.join(loc2,i)\n",
    "        img = imread(path)\n",
    "        # maskify\n",
    "      #  img, stat = maskify(img)\n",
    "        \n",
    "        if stat==True:\n",
    "            if(len(img.shape)>2):\n",
    "                img = cv2.cvtColor(img, cv2.COLOR_BGR2GRAY)\n",
    "\n",
    "            hog_img = computeHoG(img)\n",
    "            haar_img = computeHaar(img)\n",
    "\n",
    "            img_comb = np.zeros((48,48,3), np.uint8)\n",
    "            img_comb[:,:,0] = img\n",
    "            img_comb[:,:,1] = hog_img\n",
    "            img_comb[:,:,2] = haar_img\n",
    "\n",
    "            #cv2.imwrite(\"mask\"+path, img_comb)\n",
    "            test_features.append(img_comb)\n",
    "\n",
    "    for i in tqdm(os.listdir(loc3)):\n",
    "        path = os.path.join(loc3,i)\n",
    "        img = imread(path)\n",
    "        # maskify\n",
    "       # img, stat = maskify(img)\n",
    "        \n",
    "        if stat==True:\n",
    "            if(len(img.shape)>2):\n",
    "                img = cv2.cvtColor(img, cv2.COLOR_BGR2GRAY)\n",
    "\n",
    "            hog_img = computeHoG(img)\n",
    "            haar_img = computeHaar(img)\n",
    "\n",
    "            img_comb = np.zeros((48,48,3), np.uint8)\n",
    "            img_comb[:,:,0] = img\n",
    "            img_comb[:,:,1] = hog_img\n",
    "            img_comb[:,:,2] = haar_img\n",
    "\n",
    "           # cv2.imwrite(\"mask\"+path, img_comb)\n",
    "            test_features.append(img_comb)\n",
    "\n",
    "    for i in tqdm(os.listdir(loc4)):\n",
    "        path = os.path.join(loc4,i)\n",
    "        img = imread(path)\n",
    "        # maskify\n",
    "       # img, stat = maskify(img)\n",
    "        \n",
    "        if stat==True:\n",
    "            if(len(img.shape)>2):\n",
    "                img = cv2.cvtColor(img, cv2.COLOR_BGR2GRAY)\n",
    "\n",
    "            hog_img = computeHoG(img)\n",
    "            haar_img = computeHaar(img)\n",
    "\n",
    "            img_comb = np.zeros((48,48,3), np.uint8)\n",
    "            img_comb[:,:,0] = img\n",
    "            img_comb[:,:,1] = hog_img\n",
    "            img_comb[:,:,2] = haar_img\n",
    "\n",
    "           # cv2.imwrite(\"mask\"+path, img_comb)\n",
    "            test_features.append(img_comb)\n",
    "\n",
    "    for i in tqdm(os.listdir(loc5)):\n",
    "        path = os.path.join(loc5,i)\n",
    "        img = imread(path)\n",
    "        # maskify\n",
    "        #img, stat = maskify(img)\n",
    "        \n",
    "        if stat==True:\n",
    "            if(len(img.shape)>2):\n",
    "                img = cv2.cvtColor(img, cv2.COLOR_BGR2GRAY)\n",
    "\n",
    "            hog_img = computeHoG(img)\n",
    "            haar_img = computeHaar(img)\n",
    "\n",
    "            img_comb = np.zeros((48,48,3), np.uint8)\n",
    "            img_comb[:,:,0] = img\n",
    "            img_comb[:,:,1] = hog_img\n",
    "            img_comb[:,:,2] = haar_img\n",
    "\n",
    "          #  cv2.imwrite(\"mask\"+path, img_comb)\n",
    "            test_features.append(img_comb)\n",
    "\n",
    "    for i in tqdm(os.listdir(loc6)):\n",
    "        path = os.path.join(loc6,i)\n",
    "        img = imread(path)\n",
    "        # maskify\n",
    "       # img, stat = maskify(img)\n",
    "        \n",
    "        if stat==True:\n",
    "            if(len(img.shape)>2):\n",
    "                img = cv2.cvtColor(img, cv2.COLOR_BGR2GRAY)\n",
    "\n",
    "            hog_img = computeHoG(img)\n",
    "            haar_img = computeHaar(img)\n",
    "\n",
    "            img_comb = np.zeros((48,48,3), np.uint8)\n",
    "            img_comb[:,:,0] = img\n",
    "            img_comb[:,:,1] = hog_img\n",
    "            img_comb[:,:,2] = haar_img\n",
    "\n",
    "          #  cv2.imwrite(\"mask\"+path, img_comb)\n",
    "            test_features.append(img_comb)\n",
    "\n",
    "    for i in tqdm(os.listdir(loc7)):\n",
    "        path = os.path.join(loc7,i)\n",
    "        img = imread(path)\n",
    "        # maskify\n",
    "       # img, stat = maskify(img)\n",
    "        \n",
    "        if stat==True:\n",
    "            if(len(img.shape)>2):\n",
    "                img = cv2.cvtColor(img, cv2.COLOR_BGR2GRAY)\n",
    "\n",
    "            hog_img = computeHoG(img)\n",
    "            haar_img = computeHaar(img)\n",
    "\n",
    "            img_comb = np.zeros((48,48,3), np.uint8)\n",
    "            img_comb[:,:,0] = img\n",
    "            img_comb[:,:,1] = hog_img\n",
    "            img_comb[:,:,2] = haar_img\n",
    "\n",
    "          #  cv2.imwrite(\"mask\"+path, img_comb)\n",
    "            test_features.append(img_comb)"
   ]
  },
  {
   "cell_type": "code",
   "execution_count": 13,
   "metadata": {},
   "outputs": [],
   "source": [
    "labels_test = []\n",
    "for i in os.listdir('data/test/0'):\n",
    "    labels_test.append(0)\n",
    "for i in os.listdir('data/test/1'):\n",
    "    labels_test.append(1)\n",
    "for i in os.listdir('data/test/2'):\n",
    "    labels_test.append(2)\n",
    "for i in os.listdir('data/test/3'):\n",
    "    labels_test.append(3)\n",
    "for i in os.listdir('data/test/4'):\n",
    "    labels_test.append(4)\n",
    "for i in os.listdir('data/test/5'):\n",
    "    labels_test.append(5)\n",
    "for i in os.listdir('data/test/6'):\n",
    "    labels_test.append(6)"
   ]
  },
  {
   "cell_type": "code",
   "execution_count": 14,
   "metadata": {},
   "outputs": [],
   "source": [
    "train_data = pd.DataFrame()\n",
    "test_data = pd.DataFrame()"
   ]
  },
  {
   "cell_type": "code",
   "execution_count": 15,
   "metadata": {},
   "outputs": [
    {
     "data": {
      "text/plain": [
       "28709"
      ]
     },
     "execution_count": 15,
     "metadata": {},
     "output_type": "execute_result"
    }
   ],
   "source": [
    "len(features)"
   ]
  },
  {
   "cell_type": "code",
   "execution_count": 16,
   "metadata": {},
   "outputs": [],
   "source": [
    "train_data['emotion'] = labels\n",
    "train_data['pixel_values'] = features\n",
    "test_data['emotion'] = labels_test\n",
    "test_data['pixel_values'] = test_features"
   ]
  },
  {
   "cell_type": "code",
   "execution_count": 17,
   "metadata": {},
   "outputs": [
    {
     "data": {
      "text/html": [
       "<div>\n",
       "<style scoped>\n",
       "    .dataframe tbody tr th:only-of-type {\n",
       "        vertical-align: middle;\n",
       "    }\n",
       "\n",
       "    .dataframe tbody tr th {\n",
       "        vertical-align: top;\n",
       "    }\n",
       "\n",
       "    .dataframe thead th {\n",
       "        text-align: right;\n",
       "    }\n",
       "</style>\n",
       "<table border=\"1\" class=\"dataframe\">\n",
       "  <thead>\n",
       "    <tr style=\"text-align: right;\">\n",
       "      <th></th>\n",
       "      <th>emotion</th>\n",
       "      <th>pixel_values</th>\n",
       "    </tr>\n",
       "  </thead>\n",
       "  <tbody>\n",
       "    <tr>\n",
       "      <th>0</th>\n",
       "      <td>0</td>\n",
       "      <td>[[[179, 0, 101], [175, 0, 102], [176, 0, 103],...</td>\n",
       "    </tr>\n",
       "    <tr>\n",
       "      <th>1</th>\n",
       "      <td>0</td>\n",
       "      <td>[[[103, 0, 121], [126, 0, 136], [109, 0, 151],...</td>\n",
       "    </tr>\n",
       "    <tr>\n",
       "      <th>2</th>\n",
       "      <td>0</td>\n",
       "      <td>[[[27, 0, 162], [29, 0, 133], [88, 0, 139], [3...</td>\n",
       "    </tr>\n",
       "    <tr>\n",
       "      <th>3</th>\n",
       "      <td>0</td>\n",
       "      <td>[[[11, 0, 132], [11, 0, 132], [11, 0, 132], [1...</td>\n",
       "    </tr>\n",
       "    <tr>\n",
       "      <th>4</th>\n",
       "      <td>0</td>\n",
       "      <td>[[[80, 0, 117], [82, 0, 99], [107, 0, 92], [14...</td>\n",
       "    </tr>\n",
       "  </tbody>\n",
       "</table>\n",
       "</div>"
      ],
      "text/plain": [
       "   emotion                                       pixel_values\n",
       "0        0  [[[179, 0, 101], [175, 0, 102], [176, 0, 103],...\n",
       "1        0  [[[103, 0, 121], [126, 0, 136], [109, 0, 151],...\n",
       "2        0  [[[27, 0, 162], [29, 0, 133], [88, 0, 139], [3...\n",
       "3        0  [[[11, 0, 132], [11, 0, 132], [11, 0, 132], [1...\n",
       "4        0  [[[80, 0, 117], [82, 0, 99], [107, 0, 92], [14..."
      ]
     },
     "execution_count": 17,
     "metadata": {},
     "output_type": "execute_result"
    }
   ],
   "source": [
    "test_data.head()"
   ]
  },
  {
   "cell_type": "code",
   "execution_count": 18,
   "metadata": {},
   "outputs": [
    {
     "data": {
      "image/png": "[encoded data removed]",
      "text/plain": [
       "<Figure size 1440x576 with 2 Axes>"
      ]
     },
     "metadata": {
      "needs_background": "light"
     },
     "output_type": "display_data"
    }
   ],
   "source": [
    "emotion_labels = ['Angry', 'Disgust', 'Fear', 'Happy', 'Sad', 'Surprise', 'Neutral']\n",
    "\n",
    "def setup_axe(axe,df,title):\n",
    "    df['emotion'].value_counts(sort=False).plot(ax=axe, kind='bar', rot=0)\n",
    "    axe.set_xticklabels(emotion_labels)\n",
    "    axe.set_xlabel(\"Emotions\")\n",
    "    axe.set_ylabel(\"Count\")\n",
    "    axe.set_title(title)\n",
    "    \n",
    "    # set individual bar lables using above list\n",
    "    for i in axe.patches:\n",
    "         axe.text(i.get_x()-.05, i.get_height()+120, \\\n",
    "                str(round((i.get_height()), 2)), fontsize=14, color='red',\n",
    "                    rotation=0)\n",
    "\n",
    "import matplotlib.pyplot as plt   \n",
    "fig, axes = plt.subplots(1,2, figsize=(20,8), sharey=True)\n",
    "setup_axe(axes[0],train_data,'train')\n",
    "setup_axe(axes[1],test_data,'test')\n",
    "plt.show()"
   ]
  },
  {
   "cell_type": "code",
   "execution_count": 19,
   "metadata": {},
   "outputs": [],
   "source": [
    "features = np.array(features).reshape(-1,48,48,3)\n",
    "test_features = np.array(test_features).reshape(-1,48,48,3)\n",
    "\n",
    "features = features/255\n",
    "test_features = test_features/255\n",
    "\n",
    "labels = np_utils.to_categorical(labels)\n",
    "labels_test =np_utils.to_categorical(labels_test)"
   ]
  },
  {
   "cell_type": "code",
   "execution_count": 20,
   "metadata": {},
   "outputs": [
    {
     "name": "stdout",
     "output_type": "stream",
     "text": [
      "Training features shape  (28709, 48, 48, 3)\n",
      "Training labels shape (28709, 7)\n",
      "Testing features shape  (3590, 48, 48, 3)\n",
      "Testing labels shape (3590, 7)\n"
     ]
    }
   ],
   "source": [
    "print('Training features shape ',features.shape)\n",
    "print('Training labels shape',labels.shape)\n",
    "print('Testing features shape ',test_features.shape)\n",
    "print('Testing labels shape',labels_test.shape)"
   ]
  },
  {
   "cell_type": "code",
   "execution_count": 21,
   "metadata": {},
   "outputs": [],
   "source": [
    "from keras.metrics import categorical_accuracy\n",
    "from keras.models import model_from_json\n",
    "from keras.callbacks import ModelCheckpoint\n",
    "from keras.optimizers import *\n",
    "from sklearn.metrics import accuracy_score\n",
    "from tensorflow.keras.datasets import mnist\n",
    "from tensorflow.python.keras.utils import np_utils\n",
    "from tensorflow.keras import Sequential\n",
    "from tensorflow.keras.layers import Input, Dense, Dropout, Activation, Flatten, Conv2D, BatchNormalization,MaxPooling2D\n",
    "from tensorflow.keras.optimizers import Adam, RMSprop"
   ]
  },
  {
   "cell_type": "code",
   "execution_count": 22,
   "metadata": {},
   "outputs": [],
   "source": [
    "def create_model():\n",
    "    model = Sequential()\n",
    "    input_shape = (48,48,3)\n",
    "    model.add(Conv2D(64, (5, 5), input_shape=input_shape,activation='relu', padding='same'))\n",
    "    model.add(Conv2D(64, (5, 5), activation='relu', padding='same'))\n",
    "    model.add(BatchNormalization())\n",
    "    model.add(MaxPooling2D(pool_size=(2, 2)))\n",
    "\n",
    "    model.add(Conv2D(128, (5, 5),activation='relu',padding='same'))\n",
    "    model.add(Conv2D(128, (5, 5),activation='relu',padding='same'))\n",
    "    model.add(Conv2D(128, (5, 5),activation='relu',padding='same'))\n",
    "    model.add(BatchNormalization())\n",
    "    model.add(MaxPooling2D(pool_size=(2, 2)))\n",
    "\n",
    "    model.add(Conv2D(256, (3, 3),activation='relu',padding='same'))\n",
    "    model.add(Conv2D(256, (3, 3),activation='relu',padding='same'))\n",
    "    model.add(Conv2D(256, (3, 3),activation='relu',padding='same'))\n",
    "    model.add(BatchNormalization())\n",
    "    model.add(MaxPooling2D(pool_size=(2, 2)))\n",
    "\n",
    "    model.add(Flatten())\n",
    "    model.add(Dense(128))\n",
    "    model.add(BatchNormalization())\n",
    "    model.add(Activation('relu'))\n",
    "    model.add(Dropout(0.2))\n",
    "    \n",
    "    \n",
    "    model.add(Flatten())\n",
    "    model.add(Dense(64))\n",
    "    model.add(BatchNormalization())\n",
    "    model.add(Activation('relu'))\n",
    "    model.add(Dropout(0.2))\n",
    "    \n",
    "    \n",
    "    model.add(Dense(7))\n",
    "    model.add(Activation('softmax'))\n",
    "\n",
    "    model.compile(loss='categorical_crossentropy', metrics=['accuracy'],optimizer='adam')\n",
    "    return model"
   ]
  },
  {
   "cell_type": "code",
   "execution_count": 23,
   "metadata": {},
   "outputs": [],
   "source": [
    "model = create_model()"
   ]
  },
  {
   "cell_type": "code",
   "execution_count": 24,
   "metadata": {},
   "outputs": [
    {
     "name": "stdout",
     "output_type": "stream",
     "text": [
      "Model: \"sequential\"\n",
      "_________________________________________________________________\n",
      "Layer (type)                 Output Shape              Param #   \n",
      "=================================================================\n",
      "conv2d (Conv2D)              (None, 48, 48, 64)        4864      \n",
      "_________________________________________________________________\n",
      "conv2d_1 (Conv2D)            (None, 48, 48, 64)        102464    \n",
      "_________________________________________________________________\n",
      "batch_normalization (BatchNo (None, 48, 48, 64)        256       \n",
      "_________________________________________________________________\n",
      "max_pooling2d (MaxPooling2D) (None, 24, 24, 64)        0         \n",
      "_________________________________________________________________\n",
      "conv2d_2 (Conv2D)            (None, 24, 24, 128)       204928    \n",
      "_________________________________________________________________\n",
      "conv2d_3 (Conv2D)            (None, 24, 24, 128)       409728    \n",
      "_________________________________________________________________\n",
      "conv2d_4 (Conv2D)            (None, 24, 24, 128)       409728    \n",
      "_________________________________________________________________\n",
      "batch_normalization_1 (Batch (None, 24, 24, 128)       512       \n",
      "_________________________________________________________________\n",
      "max_pooling2d_1 (MaxPooling2 (None, 12, 12, 128)       0         \n",
      "_________________________________________________________________\n",
      "conv2d_5 (Conv2D)            (None, 12, 12, 256)       295168    \n",
      "_________________________________________________________________\n",
      "conv2d_6 (Conv2D)            (None, 12, 12, 256)       590080    \n",
      "_________________________________________________________________\n",
      "conv2d_7 (Conv2D)            (None, 12, 12, 256)       590080    \n",
      "_________________________________________________________________\n",
      "batch_normalization_2 (Batch (None, 12, 12, 256)       1024      \n",
      "_________________________________________________________________\n",
      "max_pooling2d_2 (MaxPooling2 (None, 6, 6, 256)         0         \n",
      "_________________________________________________________________\n",
      "flatten (Flatten)            (None, 9216)              0         \n",
      "_________________________________________________________________\n",
      "dense (Dense)                (None, 128)               1179776   \n",
      "_________________________________________________________________\n",
      "batch_normalization_3 (Batch (None, 128)               512       \n",
      "_________________________________________________________________\n",
      "activation (Activation)      (None, 128)               0         \n",
      "_________________________________________________________________\n",
      "dropout (Dropout)            (None, 128)               0         \n",
      "_________________________________________________________________\n",
      "flatten_1 (Flatten)          (None, 128)               0         \n",
      "_________________________________________________________________\n",
      "dense_1 (Dense)              (None, 64)                8256      \n",
      "_________________________________________________________________\n",
      "batch_normalization_4 (Batch (None, 64)                256       \n",
      "_________________________________________________________________\n",
      "activation_1 (Activation)    (None, 64)                0         \n",
      "_________________________________________________________________\n",
      "dropout_1 (Dropout)          (None, 64)                0         \n",
      "_________________________________________________________________\n",
      "dense_2 (Dense)              (None, 7)                 455       \n",
      "_________________________________________________________________\n",
      "activation_2 (Activation)    (None, 7)                 0         \n",
      "=================================================================\n",
      "Total params: 3,798,087\n",
      "Trainable params: 3,796,807\n",
      "Non-trainable params: 1,280\n",
      "_________________________________________________________________\n"
     ]
    }
   ],
   "source": [
    "model.summary()"
   ]
  },
  {
   "cell_type": "code",
   "execution_count": 25,
   "metadata": {},
   "outputs": [],
   "source": [
    "checkpoint_path = \"training_2/cp.ckpt\"\n",
    "checkpoint_dir = os.path.dirname(checkpoint_path)\n",
    "cp_callback = tf.keras.callbacks.ModelCheckpoint(filepath=checkpoint_path,\n",
    "                                                 save_weights_only=True,\n",
    "                                                 best_only_model=True,\n",
    "                                                 verbose=1)"
   ]
  },
  {
   "cell_type": "code",
   "execution_count": 26,
   "metadata": {},
   "outputs": [],
   "source": [
    "model.save_weights(checkpoint_path.format(epoch=0))"
   ]
  },
  {
   "cell_type": "code",
   "execution_count": 27,
   "metadata": {},
   "outputs": [
    {
     "name": "stdout",
     "output_type": "stream",
     "text": [
      "Epoch 1/10\n",
      "449/448 [==============================] - ETA: 0s - loss: 1.8335 - accuracy: 0.2655\n",
      "Epoch 00001: saving model to training_2\\cp.ckpt\n",
      "449/448 [==============================] - 1014s 2s/step - loss: 1.8335 - accuracy: 0.2655 - val_loss: 1.5959 - val_accuracy: 0.3716\n",
      "Epoch 2/10\n",
      "449/448 [==============================] - ETA: 0s - loss: 1.5625 - accuracy: 0.3920\n",
      "Epoch 00002: saving model to training_2\\cp.ckpt\n",
      "449/448 [==============================] - 1034s 2s/step - loss: 1.5625 - accuracy: 0.3920 - val_loss: 1.6336 - val_accuracy: 0.3504\n",
      "Epoch 3/10\n",
      "449/448 [==============================] - ETA: 0s - loss: 1.4072 - accuracy: 0.4580\n",
      "Epoch 00003: saving model to training_2\\cp.ckpt\n",
      "449/448 [==============================] - 1048s 2s/step - loss: 1.4072 - accuracy: 0.4580 - val_loss: 1.3297 - val_accuracy: 0.4911\n",
      "Epoch 4/10\n",
      "449/448 [==============================] - ETA: 0s - loss: 1.3033 - accuracy: 0.5030\n",
      "Epoch 00004: saving model to training_2\\cp.ckpt\n",
      "449/448 [==============================] - 1043s 2s/step - loss: 1.3033 - accuracy: 0.5030 - val_loss: 1.1841 - val_accuracy: 0.5471\n",
      "Epoch 5/10\n",
      "449/448 [==============================] - ETA: -1s - loss: 1.2148 - accuracy: 0.5390\n",
      "Epoch 00005: saving model to training_2\\cp.ckpt\n",
      "449/448 [==============================] - 1295s 3s/step - loss: 1.2148 - accuracy: 0.5390 - val_loss: 1.1087 - val_accuracy: 0.5763\n",
      "Epoch 6/10\n",
      "449/448 [==============================] - ETA: -1s - loss: 1.1314 - accuracy: 0.5733\n",
      "Epoch 00006: saving model to training_2\\cp.ckpt\n",
      "449/448 [==============================] - 1203s 3s/step - loss: 1.1314 - accuracy: 0.5733 - val_loss: 0.9939 - val_accuracy: 0.6206\n",
      "Epoch 7/10\n",
      "449/448 [==============================] - ETA: -1s - loss: 1.0666 - accuracy: 0.5986\n",
      "Epoch 00007: saving model to training_2\\cp.ckpt\n",
      "449/448 [==============================] - 1106s 2s/step - loss: 1.0666 - accuracy: 0.5986 - val_loss: 0.9727 - val_accuracy: 0.6340\n",
      "Epoch 8/10\n",
      "449/448 [==============================] - ETA: -1s - loss: 0.9950 - accuracy: 0.6292\n",
      "Epoch 00008: saving model to training_2\\cp.ckpt\n",
      "449/448 [==============================] - 1129s 3s/step - loss: 0.9950 - accuracy: 0.6292 - val_loss: 1.0168 - val_accuracy: 0.6178\n",
      "Epoch 9/10\n",
      "449/448 [==============================] - ETA: -1s - loss: 0.9216 - accuracy: 0.6589\n",
      "Epoch 00009: saving model to training_2\\cp.ckpt\n",
      "449/448 [==============================] - 1115s 2s/step - loss: 0.9216 - accuracy: 0.6589 - val_loss: 0.9201 - val_accuracy: 0.6582\n",
      "Epoch 10/10\n",
      "449/448 [==============================] - ETA: -1s - loss: 0.8340 - accuracy: 0.6939\n",
      "Epoch 00010: saving model to training_2\\cp.ckpt\n",
      "449/448 [==============================] - 1106s 2s/step - loss: 0.8340 - accuracy: 0.6939 - val_loss: 0.8642 - val_accuracy: 0.6886\n"
     ]
    }
   ],
   "source": [
    "history = model.fit(x=features, \n",
    "            y=labels,\n",
    "            epochs=10, \n",
    "            steps_per_epoch = len(features)/64,\n",
    "            verbose=1, \n",
    "            callbacks = [cp_callback],\n",
    "            validation_data=(test_features,labels_test),  \n",
    "            validation_steps = len(test_features)/64)\n"
   ]
  },
  {
   "cell_type": "code",
   "execution_count": 349,
   "metadata": {},
   "outputs": [
    {
     "data": {
      "text/plain": [
       "<tensorflow.python.training.tracking.util.CheckpointLoadStatus at 0x2bd01027b88>"
      ]
     },
     "execution_count": 349,
     "metadata": {},
     "output_type": "execute_result"
    }
   ],
   "source": [
    "latest = tf.train.latest_checkpoint(checkpoint_dir)\n",
    "model.load_weights(latest)"
   ]
  },
  {
   "cell_type": "code",
   "execution_count": 350,
   "metadata": {},
   "outputs": [],
   "source": [
    "cp_callback = tf.keras.callbacks.ModelCheckpoint(filepath=checkpoint_path,\n",
    "                                                 save_weights_only=True,\n",
    "                                                 best_only_model=True,\n",
    "                                                 verbose=1)"
   ]
  },
  {
   "cell_type": "code",
   "execution_count": 351,
   "metadata": {},
   "outputs": [
    {
     "name": "stdout",
     "output_type": "stream",
     "text": [
      "Epoch 1/10\n",
      "312/311 [==============================] - ETA: 0s - loss: 0.0395 - accuracy: 0.9880\n",
      "Epoch 00001: saving model to training_2\\cp.ckpt\n",
      "312/311 [==============================] - 810s 3s/step - loss: 0.0395 - accuracy: 0.9880 - val_loss: 3.0935 - val_accuracy: 0.5414\n",
      "Epoch 2/10\n",
      "312/311 [==============================] - ETA: 0s - loss: 0.0658 - accuracy: 0.9778\n",
      "Epoch 00002: saving model to training_2\\cp.ckpt\n",
      "312/311 [==============================] - 797s 3s/step - loss: 0.0658 - accuracy: 0.9778 - val_loss: 2.8444 - val_accuracy: 0.5187\n",
      "Epoch 3/10\n",
      "312/311 [==============================] - ETA: 0s - loss: 0.0739 - accuracy: 0.9748\n",
      "Epoch 00003: saving model to training_2\\cp.ckpt\n",
      "312/311 [==============================] - 735s 2s/step - loss: 0.0739 - accuracy: 0.9748 - val_loss: 2.9866 - val_accuracy: 0.5349\n",
      "Epoch 4/10\n",
      "312/311 [==============================] - ETA: 0s - loss: 0.0551 - accuracy: 0.9801\n",
      "Epoch 00004: saving model to training_2\\cp.ckpt\n",
      "312/311 [==============================] - 732s 2s/step - loss: 0.0551 - accuracy: 0.9801 - val_loss: 3.0689 - val_accuracy: 0.5462\n",
      "Epoch 5/10\n",
      "312/311 [==============================] - ETA: 0s - loss: 0.0408 - accuracy: 0.9871\n",
      "Epoch 00005: saving model to training_2\\cp.ckpt\n",
      "312/311 [==============================] - 755s 2s/step - loss: 0.0408 - accuracy: 0.9871 - val_loss: 2.9160 - val_accuracy: 0.5511\n",
      "Epoch 6/10\n",
      "312/311 [==============================] - ETA: 0s - loss: 0.0497 - accuracy: 0.9834\n",
      "Epoch 00006: saving model to training_2\\cp.ckpt\n",
      "312/311 [==============================] - 736s 2s/step - loss: 0.0497 - accuracy: 0.9834 - val_loss: 3.2178 - val_accuracy: 0.5243\n",
      "Epoch 7/10\n",
      "312/311 [==============================] - ETA: 0s - loss: 0.0445 - accuracy: 0.9855\n",
      "Epoch 00007: saving model to training_2\\cp.ckpt\n",
      "312/311 [==============================] - 719s 2s/step - loss: 0.0445 - accuracy: 0.9855 - val_loss: 3.0966 - val_accuracy: 0.5377\n",
      "Epoch 8/10\n",
      "312/311 [==============================] - ETA: 0s - loss: 0.0417 - accuracy: 0.9862\n",
      "Epoch 00008: saving model to training_2\\cp.ckpt\n",
      "312/311 [==============================] - 737s 2s/step - loss: 0.0417 - accuracy: 0.9862 - val_loss: 2.8928 - val_accuracy: 0.5474\n",
      "Epoch 9/10\n",
      "312/311 [==============================] - ETA: 0s - loss: 0.0463 - accuracy: 0.9850\n",
      "Epoch 00009: saving model to training_2\\cp.ckpt\n",
      "312/311 [==============================] - 710s 2s/step - loss: 0.0463 - accuracy: 0.9850 - val_loss: 3.0352 - val_accuracy: 0.5345\n",
      "Epoch 10/10\n",
      "312/311 [==============================] - ETA: 0s - loss: 0.0465 - accuracy: 0.9840\n",
      "Epoch 00010: saving model to training_2\\cp.ckpt\n",
      "312/311 [==============================] - 694s 2s/step - loss: 0.0465 - accuracy: 0.9840 - val_loss: 3.3102 - val_accuracy: 0.5543\n"
     ]
    },
    {
     "data": {
      "text/plain": [
       "<tensorflow.python.keras.callbacks.History at 0x2bcc79f9188>"
      ]
     },
     "execution_count": 351,
     "metadata": {},
     "output_type": "execute_result"
    }
   ],
   "source": [
    "model.fit(x=features, \n",
    "            y=labels,\n",
    "            epochs=10, \n",
    "            steps_per_epoch = len(features)/64,\n",
    "            verbose=1, \n",
    "            callbacks = [cp_callback],\n",
    "            validation_data=(test_features,labels_test),  \n",
    "            validation_steps = len(test_features)/64)"
   ]
  },
  {
   "cell_type": "code",
   "execution_count": 352,
   "metadata": {},
   "outputs": [
    {
     "data": {
      "text/plain": [
       "<tensorflow.python.training.tracking.util.CheckpointLoadStatus at 0x2bcc8e56608>"
      ]
     },
     "execution_count": 352,
     "metadata": {},
     "output_type": "execute_result"
    }
   ],
   "source": [
    "latest = tf.train.latest_checkpoint(checkpoint_dir)\n",
    "model.load_weights(latest)"
   ]
  },
  {
   "cell_type": "code",
   "execution_count": 344,
   "metadata": {},
   "outputs": [],
   "source": [
    "cp_callback = tf.keras.callbacks.ModelCheckpoint(filepath=checkpoint_path,\n",
    "                                                 save_weights_only=True,\n",
    "                                                 best_only_model=True,\n",
    "                                                 verbose=1)"
   ]
  },
  {
   "cell_type": "code",
   "execution_count": 220,
   "metadata": {},
   "outputs": [
    {
     "name": "stdout",
     "output_type": "stream",
     "text": [
      "449/448 [==============================] - ETA: 0s - loss: 0.0771 - accuracy: 0.9743\n",
      "Epoch 00001: saving model to training_2\\cp.ckpt\n",
      "449/448 [==============================] - 773s 2s/step - loss: 0.0771 - accuracy: 0.9743 - val_loss: 2.7980 - val_accuracy: 0.5252\n"
     ]
    },
    {
     "data": {
      "text/plain": [
       "<tensorflow.python.keras.callbacks.History at 0x244ce499688>"
      ]
     },
     "execution_count": 220,
     "metadata": {},
     "output_type": "execute_result"
    }
   ],
   "source": [
    "history =model.fit(x=features, \n",
    "            y=labels,\n",
    "            epochs=1, \n",
    "            steps_per_epoch = len(features)/64,\n",
    "            verbose=1, \n",
    "            callbacks = [cp_callback],\n",
    "            validation_data=(test_features,labels_test),  \n",
    "            validation_steps = len(test_features)/64)"
   ]
  },
  {
   "cell_type": "code",
   "execution_count": null,
   "metadata": {},
   "outputs": [],
   "source": []
  },
  {
   "cell_type": "code",
   "execution_count": 28,
   "metadata": {},
   "outputs": [
    {
     "name": "stderr",
     "output_type": "stream",
     "text": [
      "A subdirectory or file -p already exists.\n",
      "Error occurred while processing: -p.\n",
      "A subdirectory or file saved_model already exists.\n",
      "Error occurred while processing: saved_model.\n"
     ]
    }
   ],
   "source": [
    "!mkdir -p saved_model\n",
    "model.save('saved_model/3Channelmodel')"
   ]
  },
  {
   "cell_type": "code",
   "execution_count": null,
   "metadata": {},
   "outputs": [],
   "source": [
    "from sklearn.externals import joblib \n",
    "joblib.dump(model, 'modelo_entrenado.pkl') "
   ]
  },
  {
   "cell_type": "code",
   "execution_count": 29,
   "metadata": {},
   "outputs": [],
   "source": [
    "new_model = tf.keras.models.load_model('saved_model/3Channelmodel')"
   ]
  },
  {
   "cell_type": "code",
   "execution_count": 30,
   "metadata": {},
   "outputs": [
    {
     "name": "stdout",
     "output_type": "stream",
     "text": [
      "113/113 - 32s - loss: 0.8642 - accuracy: 0.6886\n",
      "Restored model, accuracy: 68.86%\n"
     ]
    }
   ],
   "source": [
    "loss, acc = new_model.evaluate(test_features, labels_test, verbose=2)\n",
    "print(\"Restored model, accuracy: {:5.2f}%\".format(100 * acc))"
   ]
  },
  {
   "cell_type": "code",
   "execution_count": 31,
   "metadata": {},
   "outputs": [
    {
     "name": "stdout",
     "output_type": "stream",
     "text": [
      "CNN Model Accuracy on testing data: 0.6886\n"
     ]
    }
   ],
   "source": [
    "test_true = np.argmax(labels_test, axis=1)\n",
    "test_pred = np.argmax(model.predict(test_features), axis=1)\n",
    "print(\"CNN Model Accuracy on testing data: {:.4f}\".format(accuracy_score(test_true, test_pred)))"
   ]
  },
  {
   "cell_type": "code",
   "execution_count": null,
   "metadata": {},
   "outputs": [],
   "source": [
    "predicted_classes = cnn_model.predict_classes(test_features)"
   ]
  },
  {
   "cell_type": "code",
   "execution_count": 32,
   "metadata": {},
   "outputs": [
    {
     "name": "stdout",
     "output_type": "stream",
     "text": [
      "              precision    recall  f1-score   support\n",
      "\n",
      "           0       0.49      0.82      0.61       491\n",
      "           1       0.76      0.62      0.68        55\n",
      "           2       0.66      0.46      0.54       529\n",
      "           3       0.87      0.87      0.87       879\n",
      "           4       0.65      0.46      0.54       594\n",
      "           5       0.84      0.75      0.79       416\n",
      "           6       0.66      0.70      0.68       626\n",
      "\n",
      "    accuracy                           0.69      3590\n",
      "   macro avg       0.70      0.67      0.67      3590\n",
      "weighted avg       0.71      0.69      0.69      3590\n",
      "\n"
     ]
    }
   ],
   "source": [
    "from sklearn.metrics import classification_report\n",
    "\n",
    "print(classification_report(test_true, test_pred))"
   ]
  },
  {
   "cell_type": "code",
   "execution_count": 33,
   "metadata": {},
   "outputs": [
    {
     "data": {
      "image/png": "[encoded data removed]",
      "text/plain": [
       "<Figure size 432x288 with 1 Axes>"
      ]
     },
     "metadata": {
      "needs_background": "light"
     },
     "output_type": "display_data"
    }
   ],
   "source": [
    "plt.plot(history.history['accuracy'])\n",
    "plt.plot(history.history['val_accuracy'])\n",
    "plt.title('model accuracy')\n",
    "plt.ylabel('accuracy')\n",
    "plt.xlabel('epoch')\n",
    "plt.legend(['train', 'test'], loc='upper left')\n",
    "plt.show()"
   ]
  },
  {
   "cell_type": "code",
   "execution_count": 34,
   "metadata": {},
   "outputs": [
    {
     "data": {
      "image/png": "[encoded data removed]",
      "text/plain": [
       "<Figure size 432x288 with 1 Axes>"
      ]
     },
     "metadata": {
      "needs_background": "light"
     },
     "output_type": "display_data"
    }
   ],
   "source": [
    "plt.plot(history.history['loss'])\n",
    "plt.plot(history.history['val_loss'])\n",
    "plt.title('model loss')\n",
    "plt.ylabel('loss')\n",
    "plt.xlabel('epoch')\n",
    "plt.legend(['train', 'test'], loc='upper left')\n",
    "plt.show()"
   ]
  },
  {
   "cell_type": "code",
   "execution_count": null,
   "metadata": {},
   "outputs": [],
   "source": []
  }
 ],
 "metadata": {
  "colab": {
   "collapsed_sections": [],
   "name": "AISaturdays_ChallengeSession5.ipynb",
   "provenance": [
    {
     "file_id": "1eDULJv1udQFKK4WLY0M_f9jBxibhzmXs",
     "timestamp": 1583527306059
    }
   ]
  },
  "kernelspec": {
   "display_name": "Python 3",
   "language": "python",
   "name": "python3"
  },
  "language_info": {
   "codemirror_mode": {
    "name": "ipython",
    "version": 3
   },
   "file_extension": ".py",
   "mimetype": "text/x-python",
   "name": "python",
   "nbconvert_exporter": "python",
   "pygments_lexer": "ipython3",
   "version": "3.7.9"
  },
  "widgets": {
   "application/vnd.jupyter.widget-state+json": {
    "state": {},
    "version_major": 2,
    "version_minor": 0
   }
  }
 },
 "nbformat": 4,
 "nbformat_minor": 1
}
