{
 "cells": [
  {
   "cell_type": "markdown",
   "metadata": {
    "colab_type": "text",
    "id": "7mB-O_VvhJXQ"
   },
   "source": [
    "# **Facial Expressions Saturdays Ai**\n",
    "\n",
    "Proyecto de la primera edición de Donostia de Saturdays Ai 2020.\n"
   ]
  },
  {
   "cell_type": "markdown",
   "metadata": {},
   "source": [
    "1. Importación de librerías"
   ]
  },
  {
   "cell_type": "code",
   "execution_count": 181,
   "metadata": {},
   "outputs": [],
   "source": [
    "import numpy as np \n",
    "import pandas as pd\n",
    "import os\n",
    "import cv2\n",
    "from tqdm import tqdm\n",
    "import tensorflow as tf\n",
    "from tensorflow import keras\n",
    "from keras.utils import np_utils\n",
    "from skimage import io\n",
    "\n",
    "\n",
    "## Added libraries by Hooshiar\n",
    "from skimage.io import imread\n",
    "from skimage.transform import resize\n",
    "from skimage.feature import hog\n",
    "from skimage import exposure\n",
    "import matplotlib.pyplot as plt\n",
    "from skimage import img_as_ubyte\n",
    "from skimage.util import img_as_float\n",
    "\n",
    "# these lib are for applying mask\n",
    "import dlib\n",
    "import numpy as np\n",
    "import imutils\n",
    "\n",
    "# this lib are to compute Haar Wavelet of an image\n",
    "import pywt\n",
    "\n",
    "\n",
    "# settings: Load from the pre processed data:\n",
    "# in case the images are preprocessed, they will be loaded from a specific folder, rather than being generated\n",
    "loadPreprocessed = False;\n",
    "\n",
    "featureMethod = 1   # 0 is for HoG, 1 is for Haar\n",
    "\n",
    "loadDir = \"data\"\n",
    "\n",
    "if loadPreprocessed:\n",
    "    loadDir = \"maskdata\""
   ]
  },
  {
   "cell_type": "code",
   "execution_count": 182,
   "metadata": {},
   "outputs": [],
   "source": [
    "# this function is to apply mask on the input images\n",
    "def maskify(path):\n",
    "    ## set directories\n",
    "    #os.chdir(\"C:\\Users\\ZolfaghH\\Downloads\\facial\\Facial_Expression_Saturdays-master\")\n",
    "    #path =\"predict/4disguested.jpg\"\n",
    "\n",
    "    #Initialize color [color_type] = (Blue, Green, Red)\n",
    "    color_blue = (254,207,110)\n",
    "    color_cyan = (255,200,0)\n",
    "    color_black = (0, 0, 0)\n",
    "\n",
    "    # Use input () function to capture from user requirements for mask type and mask colour\n",
    "    choice1 = 1 #input(\"Please select the choice of mask color\\nEnter 1 for blue\\nEnter 2 for black:\\n\")\n",
    "    #choice1 = int(choice1)\n",
    "\n",
    "    if choice1 == 1:\n",
    "        choice1 = color_blue\n",
    "        #print('You selected mask color = blue')\n",
    "    elif choice1 == 2:\n",
    "        choice1 = color_black\n",
    "        #print('You selected mask color = black')\n",
    "    else:\n",
    "        print(\"invalid selection, please select again.\")\n",
    "        #input(\"Please select the choice of mask color\\nEnter 1 for blue\\nEnter 2 for black :\\n\")\n",
    "\n",
    "\n",
    "    choice2 = 3 #input(\"Please enter choice of mask type coverage \\nEnter 1 for high \\nEnter 2 for medium \\nEnter 3 for low :\\n\")\n",
    "    #choice2 = int(choice2)\n",
    "\n",
    "\n",
    "    # print(choice2)\n",
    "\n",
    "\n",
    "\n",
    "    # Loading the image and resizing, converting it to grayscale\n",
    "    img= cv2.imread(path)\n",
    "    #img = imutils.resize(img, width = 500)\n",
    "    gray=cv2.cvtColor(img, cv2.COLOR_BGR2GRAY)\n",
    "\n",
    "    # Initialize dlib's face detector\n",
    "    detector = dlib.get_frontal_face_detector()\n",
    "\n",
    "    \"\"\"\n",
    "    Detecting faces in the grayscale image and creating an object - faces to store the list of bounding rectangles coordinates\n",
    "    The \"1\" in the second argument indicates that we should upsample the image 1 time.  \n",
    "    This will make everything bigger and allow us to detect more faces\n",
    "    \"\"\"\n",
    "\n",
    "    faces = detector(gray, 1)\n",
    "\n",
    "    # printing the coordinates of the bounding rectangles\n",
    "    #print(faces)\n",
    "    #print(\"Number of faces detected: \", len(faces))\n",
    "\n",
    "    \"\"\"\n",
    "    # Using a for loop in order to extract the specific coordinates (x1,x2,y1,y2)\n",
    "    for face in faces:\n",
    "      x1 = face.left()\n",
    "      y1 = face.top()\n",
    "      x2 = face.right()\n",
    "      y2 = face.bottom()\n",
    "      # Drawing a rectangle around the face detected\n",
    "      cv2.rectangle(img, (x1,y1), (x2,y2),(0,255,0),3)\n",
    "    cv2.imshow(\"image\", img)\n",
    "    cv2.waitKey(0)\n",
    "    cv2.destroyAllWindows()\n",
    "    \"\"\"\n",
    "\n",
    "    \"\"\"\n",
    "    Detecting facial landmarks using facial landmark predictor dlib.shape_predictor from dlib library\n",
    "    This shape prediction method requires the file called \"shape_predictor_68_face_landmarks.dat\" to be downloaded\n",
    "    Source of file: http://dlib.net/files/shape_predictor_68_face_landmarks.dat.bz2\n",
    "    \"\"\"\n",
    "    # Path of file\n",
    "    p = \"shape_predictor_68_face_landmarks.dat\"\n",
    "    # Initialize dlib's shape predictor\n",
    "    predictor = dlib.shape_predictor(p)\n",
    "\n",
    "    # Get the shape using the predictor\n",
    "    #img3=cv2.imread(path)\n",
    "    for face in faces:\n",
    "        #img3=cv2.imread(path)\n",
    "        landmarks = predictor(gray, face)\n",
    "\n",
    "        # for n in range(0,68):\n",
    "        #     x = landmarks.part(n).x\n",
    "        #     y = landmarks.part(n).y\n",
    "        #     img_landmark = cv2.circle(img, (x, y), 4, (0, 0, 255), -1)\n",
    "\n",
    "\n",
    "        points = []\n",
    "        for i in range(1, 16):\n",
    "            point = [landmarks.part(i).x, landmarks.part(i).y]\n",
    "            points.append(point)\n",
    "        # print(points)\n",
    "\n",
    "        # Coordinates for the additional 3 points for wide, high coverage mask - in sequence\n",
    "        mask_a = [((landmarks.part(42).x), (landmarks.part(15).y)),\n",
    "                  ((landmarks.part(27).x), (landmarks.part(27).y)),\n",
    "                  ((landmarks.part(39).x), (landmarks.part(1).y))]\n",
    "\n",
    "        # Coordinates for the additional point for wide, medium coverage mask - in sequence\n",
    "        mask_c = [((landmarks.part(29).x), (landmarks.part(29).y))]\n",
    "\n",
    "        # Coordinates for the additional 5 points for wide, low coverage mask (lower nose points) - in sequence\n",
    "        mask_e = [((landmarks.part(35).x), (landmarks.part(35).y)),\n",
    "                  ((landmarks.part(34).x), (landmarks.part(34).y)),\n",
    "                  ((landmarks.part(33).x), (landmarks.part(33).y)),\n",
    "                  ((landmarks.part(32).x), (landmarks.part(32).y)),\n",
    "                  ((landmarks.part(31).x), (landmarks.part(31).y))]\n",
    "\n",
    "        fmask_a = points + mask_a\n",
    "        fmask_c = points + mask_c\n",
    "        fmask_e = points + mask_e\n",
    "\n",
    "        # mask_type = {1: fmask_a, 2: fmask_c, 3: fmask_e}\n",
    "        # mask_type[choice2]\n",
    "\n",
    "\n",
    "        # Using Python OpenCV – cv2.polylines() method to draw mask outline for [mask_type]:\n",
    "        # fmask_a = wide, high coverage mask,\n",
    "        # fmask_c = wide, medium coverage mask,\n",
    "        # fmask_e  = wide, low coverage mask\n",
    "\n",
    "        fmask_a = np.array(fmask_a, dtype=np.int32)\n",
    "        fmask_c = np.array(fmask_c, dtype=np.int32)\n",
    "        fmask_e = np.array(fmask_e, dtype=np.int32)\n",
    "\n",
    "        mask_type = {1: fmask_a, 2: fmask_c, 3: fmask_e}\n",
    "        mask_type[choice2]\n",
    "\n",
    "\n",
    "        # change parameter [mask_type] and color_type for various combination\n",
    "        img2 = cv2.polylines(img, [mask_type[choice2]], True, choice1, thickness=2, lineType=cv2.LINE_8)\n",
    "\n",
    "        # Using Python OpenCV – cv2.fillPoly() method to fill mask\n",
    "        # change parameter [mask_type] and color_type for various combination\n",
    "        img3 = cv2.fillPoly(img2, [mask_type[choice2]], choice1, lineType=cv2.LINE_AA)\n",
    "        \n",
    "        #convert to grayscale\n",
    "        \n",
    "    try:\n",
    "        img3 = cv2.cvtColor(img3, cv2.COLOR_BGR2GRAY)\n",
    "    except UnboundLocalError:\n",
    "        img3=cv2.imread(path)\n",
    "        return img3, False;\n",
    "        \n",
    "            \n",
    "\n",
    "    # cv2.imshow(\"image with mask outline\", img2)\n",
    "    #plt.imshow(img3)\n",
    "    \n",
    "    \n",
    "    return img3, True;"
   ]
  },
  {
   "cell_type": "code",
   "execution_count": 183,
   "metadata": {},
   "outputs": [],
   "source": [
    "def computeHaar(img):\n",
    "\n",
    "    img = cv2.resize(img, (96,96))\n",
    "    # Convert to float for more resolution for use with pywt\n",
    "    img = np.float32(img)\n",
    "    img /= 255\n",
    "\n",
    "    # Wavelet transform of image,\n",
    "    coeffs2 = pywt.dwt2(img, 'haar')\n",
    "    LL, (LH, HL, HH) = coeffs2\n",
    "    img = LH + HL + HH   # summation of horizental an vertical and diagonal\n",
    "\n",
    "    #fig = plt.figure(figsize=(12, 3))\n",
    "    #for i, a in enumerate([LL, LH, HL, HH]):\n",
    "    #    ax = fig.add_subplot(1, 4, i + 1)\n",
    "    #    ax.imshow(a, interpolation=\"nearest\", cmap=plt.cm.gray)\n",
    "    #    ax.set_title(titles[i], fontsize=10)\n",
    "    #    ax.set_xticks([])\n",
    "    #    ax.set_yticks([])\n",
    "\n",
    "    #fig.tight_layout()\n",
    "    #plt.show()\n",
    "\n",
    "    img = cv2.normalize(img, None, alpha = 0, beta = 255, norm_type = cv2.NORM_MINMAX, dtype = cv2.CV_32F)\n",
    "    img = np.uint8(img)\n",
    "\n",
    "    #plt.imshow(img)\n",
    "    #cv2.imwrite(\"HaarWavelet.jpg\", img)\n",
    "\n",
    "    #print(img[0,0])\n",
    "    \n",
    "    return img\n",
    "\n",
    "def computeHoG(img):\n",
    "    fd, hog_image = hog(img, orientations=9, pixels_per_cell=(3, 3),cells_per_block=(2, 2), visualize=True, multichannel=False)\n",
    "    hog_image = cv2.normalize(hog_image, None, alpha = 0, beta = 255, norm_type = cv2.NORM_MINMAX, dtype = cv2.CV_32F)\n",
    "    hog_image = np.uint8(hog_image)\n",
    "    return hog_image"
   ]
  },
  {
   "cell_type": "code",
   "execution_count": 184,
   "metadata": {},
   "outputs": [
    {
     "name": "stdout",
     "output_type": "stream",
     "text": [
      "2.3.0\n"
     ]
    }
   ],
   "source": [
    "print(tf.version.VERSION)"
   ]
  },
  {
   "cell_type": "markdown",
   "metadata": {},
   "source": [
    "2. Importación data training"
   ]
  },
  {
   "cell_type": "code",
   "execution_count": 197,
   "metadata": {},
   "outputs": [],
   "source": [
    "labels = []\n",
    "\n",
    "for i in os.listdir('maskdata/train/0'):\n",
    "    labels.append(0)\n",
    "for i in os.listdir('maskdata/train/1'):\n",
    "    labels.append(1)\n",
    "for i in os.listdir('maskdata/train/2'):\n",
    "    labels.append(2)\n",
    "for i in os.listdir('maskdata/train/3'):\n",
    "    labels.append(3)\n",
    "for i in os.listdir('maskdata/train/4'):\n",
    "    labels.append(4)\n",
    "for i in os.listdir('maskdata/train/5'):\n",
    "    labels.append(5)\n",
    "for i in os.listdir('maskdata/train/6'):\n",
    "    labels.append(6)"
   ]
  },
  {
   "cell_type": "code",
   "execution_count": 188,
   "metadata": {},
   "outputs": [
    {
     "name": "stderr",
     "output_type": "stream",
     "text": [
      "100%|████████████████████████████████████████████████████████████████████████████| 3995/3995 [1:31:35<00:00,  1.38s/it]\n",
      "100%|████████████████████████████████████████████████████████████████████████████████| 436/436 [08:43<00:00,  1.20s/it]\n",
      "100%|████████████████████████████████████████████████████████████████████████████| 4097/4097 [1:22:36<00:00,  1.21s/it]\n",
      "100%|████████████████████████████████████████████████████████████████████████████| 7215/7215 [2:24:25<00:00,  1.20s/it]\n",
      "100%|████████████████████████████████████████████████████████████████████████████| 4830/4830 [1:36:22<00:00,  1.20s/it]\n",
      "100%|████████████████████████████████████████████████████████████████████████████| 3171/3171 [1:03:37<00:00,  1.20s/it]\n",
      "100%|████████████████████████████████████████████████████████████████████████████| 4965/4965 [1:41:23<00:00,  1.23s/it]\n"
     ]
    }
   ],
   "source": [
    "#feature extraction on training data\n",
    "\n",
    "loc1 = loadDir + '/train/0'\n",
    "loc2 = loadDir + '/train/1'\n",
    "loc3 = loadDir + '/train/2'\n",
    "loc4 = loadDir + '/train/3'\n",
    "loc5 = loadDir + '/train/4'\n",
    "loc6 = loadDir + '/train/5'\n",
    "loc7 = loadDir + '/train/6'\n",
    "\n",
    "features = []\n",
    "\n",
    "if loadPreprocessed:\n",
    "\n",
    "    for i in tqdm(os.listdir(loc1)):\n",
    "        features.append(cv2.imread(os.path.join(loc1,i),0))\n",
    "\n",
    "    for i in tqdm(os.listdir(loc2)):\n",
    "        features.append(cv2.imread(os.path.join(loc2,i),0))\n",
    "\n",
    "    for i in tqdm(os.listdir(loc3)):\n",
    "        features.append(cv2.imread(os.path.join(loc3,i),0))\n",
    "\n",
    "    for i in tqdm(os.listdir(loc4)):\n",
    "        features.append(cv2.imread(os.path.join(loc4,i),0))\n",
    "\n",
    "    for i in tqdm(os.listdir(loc5)):\n",
    "        features.append(cv2.imread(os.path.join(loc5,i),0))\n",
    "\n",
    "    for i in tqdm(os.listdir(loc6)):\n",
    "        features.append(cv2.imread(os.path.join(loc6,i),0))\n",
    "\n",
    "    for i in tqdm(os.listdir(loc7)):\n",
    "        features.append(cv2.imread(os.path.join(loc7,i),0))\n",
    "\n",
    "else:\n",
    "    \n",
    "##### modified code by Hooshiar to read image and compute HoG    \n",
    "    for i in tqdm(os.listdir(loc1)):\n",
    "        path = os.path.join(loc1,i)\n",
    "        img = imread(path)\n",
    "        img, stat = maskify(path)\n",
    "        if stat==True:\n",
    "            feat_img = []\n",
    "            if featureMethod==0:\n",
    "                feat_img = computeHoG(img)\n",
    "            else:\n",
    "                feat_img = computeHaar(img)\n",
    "            img_comb = np.zeros((96,96), np.uint8)\n",
    "            for j in range(48):\n",
    "                for k in range(48):\n",
    "                    img_comb[2*j,2*k] = img[j,k]\n",
    "                    img_comb[2*j+1,2*k+1] = feat_img[j,k]\n",
    "            #plt.imshow(img_comb)\n",
    "            #io.imsave('temp.jpg',img_comb)\n",
    "            #cv_image = 0.5*img_as_float(hog_image) + 0.5*img_as_float(img)\n",
    "            #cv_image = cv_image.astype(np.uint8)\n",
    "            #Save the output file for testing\n",
    "            cv2.imwrite(\"mask\"+path, img_comb)\n",
    "            features.append(img_comb)\n",
    "\n",
    "    for i in tqdm(os.listdir(loc2)):\n",
    "        path = os.path.join(loc2,i)\n",
    "        img = imread(path)\n",
    "        img, stat = maskify(path)\n",
    "        if stat==True:\n",
    "            feat_img = []\n",
    "            if featureMethod==0:\n",
    "                feat_img = computeHoG(img)\n",
    "            else:\n",
    "                feat_img = computeHaar(img)\n",
    "            img_comb = np.zeros((96,96), np.uint8)\n",
    "            for j in range(48):\n",
    "                for k in range(48):\n",
    "                    img_comb[2*j,2*k] = img[j,k]\n",
    "                    img_comb[2*j+1,2*k+1] = feat_img[j,k]\n",
    "            #plt.imshow(img_comb)\n",
    "            #io.imsave('temp.jpg',img_comb)\n",
    "            #cv_image = 0.5*img_as_float(hog_image) + 0.5*img_as_float(img)\n",
    "            #cv_image = cv_image.astype(np.uint8)\n",
    "            cv2.imwrite(\"mask\"+path, img_comb)\n",
    "            features.append(img_comb)\n",
    "\n",
    "    for i in tqdm(os.listdir(loc3)):\n",
    "        path = os.path.join(loc3,i)\n",
    "        img = imread(path)\n",
    "        img, stat = maskify(path)\n",
    "        if stat == True:\n",
    "            if featureMethod==0:\n",
    "                feat_img = computeHoG(img)\n",
    "            else:\n",
    "                feat_img = computeHaar(img)\n",
    "            img_comb = np.zeros((96,96), np.uint8)\n",
    "            for j in range(48):\n",
    "                for k in range(48):\n",
    "                    img_comb[2*j,2*k] = img[j,k]\n",
    "                    img_comb[2*j+1,2*k+1] = feat_img[j,k]\n",
    "            #plt.imshow(img_comb)\n",
    "            #io.imsave('temp.jpg',img_comb)\n",
    "            #cv_image = 0.5*img_as_float(hog_image) + 0.5*img_as_float(img)\n",
    "            #cv_image = cv_image.astype(np.uint8)\n",
    "            cv2.imwrite(\"mask\"+path, img_comb)\n",
    "            features.append(img_comb)\n",
    "\n",
    "    for i in tqdm(os.listdir(loc4)):\n",
    "        path = os.path.join(loc4,i)\n",
    "        img = imread(path)\n",
    "        img, stat = maskify(path)\n",
    "        if stat==True:\n",
    "            feat_img = []\n",
    "            if featureMethod==0:\n",
    "                feat_img = computeHoG(img)\n",
    "            else:\n",
    "                feat_img = computeHaar(img)\n",
    "            img_comb = np.zeros((96,96), np.uint8)\n",
    "            for j in range(48):\n",
    "                for k in range(48):\n",
    "                    img_comb[2*j,2*k] = img[j,k]\n",
    "                    img_comb[2*j+1,2*k+1] = feat_img[j,k]\n",
    "            #plt.imshow(img_comb)\n",
    "            #io.imsave('temp.jpg',img_comb)\n",
    "            #cv_image = 0.5*img_as_float(hog_image) + 0.5*img_as_float(img)\n",
    "            #cv_image = cv_image.astype(np.uint8)\n",
    "            cv2.imwrite(\"mask\"+path, img_comb)\n",
    "            features.append(img_comb)\n",
    "\n",
    "    for i in tqdm(os.listdir(loc5)):\n",
    "        path = os.path.join(loc5,i)\n",
    "        img = imread(path)\n",
    "        img, stat = maskify(path)\n",
    "        if stat==True:\n",
    "            feat_img = []\n",
    "            if featureMethod==0:\n",
    "                feat_img = computeHoG(img)\n",
    "            else:\n",
    "                feat_img = computeHaar(img)\n",
    "            img_comb = np.zeros((96,96), np.uint8)\n",
    "            for j in range(48):\n",
    "                for k in range(48):\n",
    "                    img_comb[2*j,2*k] = img[j,k]\n",
    "                    img_comb[2*j+1,2*k+1] = feat_img[j,k]\n",
    "            #plt.imshow(img_comb)\n",
    "            #io.imsave('temp.jpg',img_comb)\n",
    "            #cv_image = 0.5*img_as_float(hog_image) + 0.5*img_as_float(img)\n",
    "            #cv_image = cv_image.astype(np.uint8)\n",
    "            cv2.imwrite(\"mask\"+path, img_comb)\n",
    "            features.append(img_comb)\n",
    "\n",
    "    for i in tqdm(os.listdir(loc6)):\n",
    "        path = os.path.join(loc6,i)\n",
    "        img = imread(path)\n",
    "        img, stat = maskify(path)\n",
    "        if stat==True:\n",
    "            feat_img = []\n",
    "            if featureMethod==0:\n",
    "                feat_img = computeHoG(img)\n",
    "            else:\n",
    "                feat_img = computeHaar(img)\n",
    "            img_comb = np.zeros((96,96), np.uint8)\n",
    "            for j in range(48):\n",
    "                for k in range(48):\n",
    "                    img_comb[2*j,2*k] = img[j,k]\n",
    "                    img_comb[2*j+1,2*k+1] = feat_img[j,k]\n",
    "            #plt.imshow(img_comb)\n",
    "            #io.imsave('temp.jpg',img_comb)\n",
    "            #cv_image = 0.5*img_as_float(hog_image) + 0.5*img_as_float(img)\n",
    "            #cv_image = cv_image.astype(np.uint8)\n",
    "            cv2.imwrite(\"mask\"+path, img_comb)\n",
    "            features.append(img_comb)\n",
    "\n",
    "    for i in tqdm(os.listdir(loc7)):\n",
    "        path = os.path.join(loc7,i)\n",
    "        img = imread(path)\n",
    "        img, stat = maskify(path)\n",
    "        if stat==True:\n",
    "            feat_img = []\n",
    "            if featureMethod==0:\n",
    "                feat_img = computeHoG(img)\n",
    "            else:\n",
    "                feat_img = computeHaar(img)\n",
    "            img_comb = np.zeros((96,96), np.uint8)\n",
    "            for j in range(48):\n",
    "                for k in range(48):\n",
    "                    img_comb[2*j,2*k] = img[j,k]\n",
    "                    img_comb[2*j+1,2*k+1] = feat_img[j,k]\n",
    "            #plt.imshow(img_comb)\n",
    "            #io.imsave('temp.jpg',img_comb)\n",
    "            #cv_image = 0.5*img_as_float(hog_image) + 0.5*img_as_float(img)\n",
    "            #cv_image = cv_image.astype(np.uint8)\n",
    "            cv2.imwrite(\"mask\"+path, img_comb)\n",
    "            features.append(img_comb)\n"
   ]
  },
  {
   "cell_type": "code",
   "execution_count": 124,
   "metadata": {
    "scrolled": true
   },
   "outputs": [
    {
     "name": "stdout",
     "output_type": "stream",
     "text": [
      "151\n"
     ]
    },
    {
     "data": {
      "text/plain": [
       "<matplotlib.image.AxesImage at 0x1fa61fc1e08>"
      ]
     },
     "execution_count": 124,
     "metadata": {},
     "output_type": "execute_result"
    },
    {
     "data": {
      "image/png": "[encoded data removed]",
      "text/plain": [
       "<Figure size 432x288 with 1 Axes>"
      ]
     },
     "metadata": {
      "needs_background": "light"
     },
     "output_type": "display_data"
    }
   ],
   "source": [
    "print(features[0][20,20])\n",
    "plt.imshow(features[0])"
   ]
  },
  {
   "cell_type": "code",
   "execution_count": 198,
   "metadata": {},
   "outputs": [],
   "source": [
    "labels_test = []\n",
    "for i in os.listdir('maskdata/test/0'):\n",
    "    labels_test.append(0)\n",
    "for i in os.listdir('maskdata/test/1'):\n",
    "    labels_test.append(1)\n",
    "for i in os.listdir('maskdata/test/2'):\n",
    "    labels_test.append(2)\n",
    "for i in os.listdir('maskdata/test/3'):\n",
    "    labels_test.append(3)\n",
    "for i in os.listdir('maskdata/test/4'):\n",
    "    labels_test.append(4)\n",
    "for i in os.listdir('maskdata/test/5'):\n",
    "    labels_test.append(5)\n",
    "for i in os.listdir('maskdata/test/6'):\n",
    "    labels_test.append(6)"
   ]
  },
  {
   "cell_type": "code",
   "execution_count": 190,
   "metadata": {},
   "outputs": [
    {
     "name": "stderr",
     "output_type": "stream",
     "text": [
      "100%|████████████████████████████████████████████████████████████████████████████████| 491/491 [10:48<00:00,  1.32s/it]\n",
      "100%|██████████████████████████████████████████████████████████████████████████████████| 55/55 [01:28<00:00,  1.62s/it]\n",
      "100%|████████████████████████████████████████████████████████████████████████████████| 528/528 [14:13<00:00,  1.62s/it]\n",
      "100%|████████████████████████████████████████████████████████████████████████████████| 879/879 [21:49<00:00,  1.49s/it]\n",
      "100%|████████████████████████████████████████████████████████████████████████████████| 594/594 [12:35<00:00,  1.27s/it]\n",
      "100%|████████████████████████████████████████████████████████████████████████████████| 416/416 [09:22<00:00,  1.35s/it]\n",
      "100%|████████████████████████████████████████████████████████████████████████████████| 626/626 [15:18<00:00,  1.47s/it]\n"
     ]
    }
   ],
   "source": [
    "#feature extraction on testing data\n",
    "\n",
    "loc1 = loadDir + '/test/0'\n",
    "loc2 = loadDir + '/test/1'\n",
    "loc3 = loadDir + '/test/2'\n",
    "loc4 = loadDir + '/test/3'\n",
    "loc5 = loadDir + '/test/4'\n",
    "loc6 = loadDir + '/test/5'\n",
    "loc7 = loadDir + '/test/6'\n",
    "\n",
    "test_features = []\n",
    "\n",
    "if loadPreprocessed:\n",
    "\n",
    "    for i in tqdm(os.listdir(loc1)):\n",
    "        test_features.append(cv2.imread(os.path.join(loc1,i),0))\n",
    "\n",
    "    for i in tqdm(os.listdir(loc2)):\n",
    "        test_features.append(cv2.imread(os.path.join(loc2,i),0))\n",
    "\n",
    "    for i in tqdm(os.listdir(loc3)):\n",
    "        test_features.append(cv2.imread(os.path.join(loc3,i),0))\n",
    "\n",
    "    for i in tqdm(os.listdir(loc4)):\n",
    "        test_features.append(cv2.imread(os.path.join(loc4,i),0))\n",
    "\n",
    "    for i in tqdm(os.listdir(loc5)):\n",
    "        test_features.append(cv2.imread(os.path.join(loc5,i),0))\n",
    "\n",
    "    for i in tqdm(os.listdir(loc6)):\n",
    "        test_features.append(cv2.imread(os.path.join(loc6,i),0))\n",
    "\n",
    "    for i in tqdm(os.listdir(loc7)):\n",
    "        test_features.append(cv2.imread(os.path.join(loc7,i),0))\n",
    "\n",
    "else:\n",
    "    \n",
    "    # Modified by Hooshiar to generate HoGof image and just use it for testing\n",
    "\n",
    "    for i in tqdm(os.listdir(loc1)):\n",
    "        path = os.path.join(loc1,i)\n",
    "        img = imread(path)\n",
    "        img, stat = maskify(path)\n",
    "        if stat==True:\n",
    "            feat_img = []\n",
    "            if featureMethod==0:\n",
    "                feat_img = computeHoG(img)\n",
    "            else:\n",
    "                feat_img = computeHaar(img)\n",
    "            img_comb = np.zeros((96,96), np.uint8)\n",
    "            for j in range(48):\n",
    "                for k in range(48):\n",
    "                    img_comb[2*j,2*k] = img[j,k]\n",
    "                    img_comb[2*j+1,2*k+1] = feat_img[j,k]\n",
    "            #plt.imshow(img_comb)\n",
    "            #io.imsave('temp.jpg',img_comb)\n",
    "            #cv_image = 0.5*img_as_float(hog_image) + 0.5*img_as_float(img)\n",
    "            #cv_image = cv_image.astype(np.uint8)\n",
    "            cv2.imwrite(\"mask\"+path, img_comb)\n",
    "            test_features.append(img_comb)\n",
    "\n",
    "    for i in tqdm(os.listdir(loc2)):\n",
    "        path = os.path.join(loc2,i)\n",
    "        img = imread(path)\n",
    "        img, stat = maskify(path)\n",
    "        if stat==True:\n",
    "            feat_img = []\n",
    "            if featureMethod==0:\n",
    "                feat_img = computeHoG(img)\n",
    "            else:\n",
    "                feat_img = computeHaar(img)\n",
    "            img_comb = np.zeros((96,96), np.uint8)\n",
    "            for j in range(48):\n",
    "                for k in range(48):\n",
    "                    img_comb[2*j,2*k] = img[j,k]\n",
    "                    img_comb[2*j+1,2*k+1] = feat_img[j,k]\n",
    "            #plt.imshow(img_comb)\n",
    "            #io.imsave('temp.jpg',img_comb)\n",
    "            #cv_image = 0.5*img_as_float(hog_image) + 0.5*img_as_float(img)\n",
    "            #cv_image = cv_image.astype(np.uint8)\n",
    "            cv2.imwrite(\"mask\"+path, img_comb)\n",
    "            test_features.append(img_comb)\n",
    "\n",
    "    for i in tqdm(os.listdir(loc3)):\n",
    "        path = os.path.join(loc3,i)\n",
    "        img = imread(path)\n",
    "        img, stat = maskify(path)\n",
    "        if stat==True:\n",
    "            feat_img = []\n",
    "            if featureMethod==0:\n",
    "                feat_img = computeHoG(img)\n",
    "            else:\n",
    "                feat_img = computeHaar(img)\n",
    "            img_comb = np.zeros((96,96), np.uint8)\n",
    "            for j in range(48):\n",
    "                for k in range(48):\n",
    "                    img_comb[2*j,2*k] = img[j,k]\n",
    "                    img_comb[2*j+1,2*k+1] = feat_img[j,k]\n",
    "            #plt.imshow(img_comb)\n",
    "            #io.imsave('temp.jpg',img_comb)\n",
    "            #cv_image = 0.5*img_as_float(hog_image) + 0.5*img_as_float(img)\n",
    "            #cv_image = cv_image.astype(np.uint8)\n",
    "            cv2.imwrite(\"mask\"+path, img_comb)\n",
    "            test_features.append(img_comb)\n",
    "\n",
    "    for i in tqdm(os.listdir(loc4)):\n",
    "        path = os.path.join(loc4,i)\n",
    "        img = imread(path)\n",
    "        img, stat = maskify(path)\n",
    "        if stat==True:\n",
    "            feat_img = []\n",
    "            if featureMethod==0:\n",
    "                feat_img = computeHoG(img)\n",
    "            else:\n",
    "                feat_img = computeHaar(img)\n",
    "            img_comb = np.zeros((96,96), np.uint8)\n",
    "            for j in range(48):\n",
    "                for k in range(48):\n",
    "                    img_comb[2*j,2*k] = img[j,k]\n",
    "                    img_comb[2*j+1,2*k+1] = feat_img[j,k]\n",
    "            #plt.imshow(img_comb)\n",
    "            #io.imsave('temp.jpg',img_comb)\n",
    "            #cv_image = 0.5*img_as_float(hog_image) + 0.5*img_as_float(img)\n",
    "            #cv_image = cv_image.astype(np.uint8)\n",
    "            cv2.imwrite(\"mask\"+path, img_comb)\n",
    "            test_features.append(img_comb)\n",
    "\n",
    "    for i in tqdm(os.listdir(loc5)):\n",
    "        path = os.path.join(loc5,i)\n",
    "        img = imread(path)\n",
    "        img, stat = maskify(path)\n",
    "        if stat==True:\n",
    "            feat_img = []\n",
    "            if featureMethod==0:\n",
    "                feat_img = computeHoG(img)\n",
    "            else:\n",
    "                feat_img = computeHaar(img)\n",
    "            img_comb = np.zeros((96,96), np.uint8)\n",
    "            for j in range(48):\n",
    "                for k in range(48):\n",
    "                    img_comb[2*j,2*k] = img[j,k]\n",
    "                    img_comb[2*j+1,2*k+1] = feat_img[j,k]\n",
    "            #plt.imshow(img_comb)\n",
    "            #io.imsave('temp.jpg',img_comb)\n",
    "            #cv_image = 0.5*img_as_float(hog_image) + 0.5*img_as_float(img)\n",
    "            #cv_image = cv_image.astype(np.uint8)\n",
    "            cv2.imwrite(\"mask\"+path, img_comb)\n",
    "            test_features.append(img_comb)\n",
    "\n",
    "    for i in tqdm(os.listdir(loc6)):\n",
    "        path = os.path.join(loc6,i)\n",
    "        img = imread(path)\n",
    "        img, stat = maskify(path)\n",
    "        if stat==True:\n",
    "            feat_img = []\n",
    "            if featureMethod==0:\n",
    "                feat_img = computeHoG(img)\n",
    "            else:\n",
    "                feat_img = computeHaar(img)\n",
    "            img_comb = np.zeros((96,96), np.uint8)\n",
    "            for j in range(48):\n",
    "                for k in range(48):\n",
    "                    img_comb[2*j,2*k] = img[j,k]\n",
    "                    img_comb[2*j+1,2*k+1] = feat_img[j,k]\n",
    "            #plt.imshow(img_comb)\n",
    "            #io.imsave('temp.jpg',img_comb)\n",
    "            #cv_image = 0.5*img_as_float(hog_image) + 0.5*img_as_float(img)\n",
    "            #cv_image = cv_image.astype(np.uint8)\n",
    "            cv2.imwrite(\"mask\"+path, img_comb)\n",
    "            test_features.append(img_comb)\n",
    "\n",
    "    for i in tqdm(os.listdir(loc7)):\n",
    "        path = os.path.join(loc7,i)\n",
    "        img = imread(path)\n",
    "        img, stat = maskify(path)\n",
    "        if stat==True:\n",
    "            feat_img = []\n",
    "            if featureMethod==0:\n",
    "                feat_img = computeHoG(img)\n",
    "            else:\n",
    "                feat_img = computeHaar(img)\n",
    "            img_comb = np.zeros((96,96), np.uint8)\n",
    "            for j in range(48):\n",
    "                for k in range(48):\n",
    "                    img_comb[2*j,2*k] = img[j,k]\n",
    "                    img_comb[2*j+1,2*k+1] = feat_img[j,k]\n",
    "            #plt.imshow(img_comb)\n",
    "            #io.imsave('temp.jpg',img_comb)\n",
    "            #cv_image = 0.5*img_as_float(hog_image) + 0.5*img_as_float(img)\n",
    "            #cv_image = cv_image.astype(np.uint8)\n",
    "            cv2.imwrite(\"mask\"+path, img_comb)\n",
    "            test_features.append(img_comb)"
   ]
  },
  {
   "cell_type": "code",
   "execution_count": 199,
   "metadata": {},
   "outputs": [],
   "source": [
    "train_data = pd.DataFrame()\n",
    "test_data = pd.DataFrame()"
   ]
  },
  {
   "cell_type": "code",
   "execution_count": 200,
   "metadata": {},
   "outputs": [
    {
     "data": {
      "text/plain": [
       "19960"
      ]
     },
     "execution_count": 200,
     "metadata": {},
     "output_type": "execute_result"
    }
   ],
   "source": [
    "len(features)"
   ]
  },
  {
   "cell_type": "code",
   "execution_count": 201,
   "metadata": {},
   "outputs": [],
   "source": [
    "train_data['emotion'] = labels\n",
    "train_data['pixel_values'] = features\n",
    "test_data['emotion'] = labels_test\n",
    "test_data['pixel_values'] = test_features"
   ]
  },
  {
   "cell_type": "code",
   "execution_count": 202,
   "metadata": {},
   "outputs": [
    {
     "data": {
      "text/html": [
       "<div>\n",
       "<style scoped>\n",
       "    .dataframe tbody tr th:only-of-type {\n",
       "        vertical-align: middle;\n",
       "    }\n",
       "\n",
       "    .dataframe tbody tr th {\n",
       "        vertical-align: top;\n",
       "    }\n",
       "\n",
       "    .dataframe thead th {\n",
       "        text-align: right;\n",
       "    }\n",
       "</style>\n",
       "<table border=\"1\" class=\"dataframe\">\n",
       "  <thead>\n",
       "    <tr style=\"text-align: right;\">\n",
       "      <th></th>\n",
       "      <th>emotion</th>\n",
       "      <th>pixel_values</th>\n",
       "    </tr>\n",
       "  </thead>\n",
       "  <tbody>\n",
       "    <tr>\n",
       "      <th>0</th>\n",
       "      <td>0</td>\n",
       "      <td>[[170, 0, 118, 0, 101, 0, 88, 0, 88, 0, 75, 0,...</td>\n",
       "    </tr>\n",
       "    <tr>\n",
       "      <th>1</th>\n",
       "      <td>0</td>\n",
       "      <td>[[245, 0, 245, 0, 239, 0, 122, 0, 144, 0, 101,...</td>\n",
       "    </tr>\n",
       "    <tr>\n",
       "      <th>2</th>\n",
       "      <td>0</td>\n",
       "      <td>[[58, 0, 52, 0, 55, 0, 62, 0, 59, 0, 42, 0, 40...</td>\n",
       "    </tr>\n",
       "    <tr>\n",
       "      <th>3</th>\n",
       "      <td>0</td>\n",
       "      <td>[[42, 0, 53, 0, 68, 0, 76, 0, 78, 0, 79, 0, 79...</td>\n",
       "    </tr>\n",
       "    <tr>\n",
       "      <th>4</th>\n",
       "      <td>0</td>\n",
       "      <td>[[176, 0, 180, 0, 197, 0, 187, 0, 177, 0, 176,...</td>\n",
       "    </tr>\n",
       "  </tbody>\n",
       "</table>\n",
       "</div>"
      ],
      "text/plain": [
       "   emotion                                       pixel_values\n",
       "0        0  [[170, 0, 118, 0, 101, 0, 88, 0, 88, 0, 75, 0,...\n",
       "1        0  [[245, 0, 245, 0, 239, 0, 122, 0, 144, 0, 101,...\n",
       "2        0  [[58, 0, 52, 0, 55, 0, 62, 0, 59, 0, 42, 0, 40...\n",
       "3        0  [[42, 0, 53, 0, 68, 0, 76, 0, 78, 0, 79, 0, 79...\n",
       "4        0  [[176, 0, 180, 0, 197, 0, 187, 0, 177, 0, 176,..."
      ]
     },
     "execution_count": 202,
     "metadata": {},
     "output_type": "execute_result"
    }
   ],
   "source": [
    "test_data.head()"
   ]
  },
  {
   "cell_type": "code",
   "execution_count": 203,
   "metadata": {},
   "outputs": [
    {
     "data": {
      "image/png": "[encoded data removed]",
      "text/plain": [
       "<Figure size 1440x576 with 2 Axes>"
      ]
     },
     "metadata": {
      "needs_background": "light"
     },
     "output_type": "display_data"
    }
   ],
   "source": [
    "emotion_labels = ['Angry', 'Disgust', 'Fear', 'Happy', 'Sad', 'Surprise', 'Neutral']\n",
    "\n",
    "def setup_axe(axe,df,title):\n",
    "    df['emotion'].value_counts(sort=False).plot(ax=axe, kind='bar', rot=0)\n",
    "    axe.set_xticklabels(emotion_labels)\n",
    "    axe.set_xlabel(\"Emotions\")\n",
    "    axe.set_ylabel(\"Count\")\n",
    "    axe.set_title(title)\n",
    "    \n",
    "    # set individual bar lables using above list\n",
    "    for i in axe.patches:\n",
    "         axe.text(i.get_x()-.05, i.get_height()+120, \\\n",
    "                str(round((i.get_height()), 2)), fontsize=14, color='red',\n",
    "                    rotation=0)\n",
    "\n",
    "import matplotlib.pyplot as plt   \n",
    "fig, axes = plt.subplots(1,2, figsize=(20,8), sharey=True)\n",
    "setup_axe(axes[0],train_data,'train')\n",
    "setup_axe(axes[1],test_data,'test')\n",
    "plt.show()"
   ]
  },
  {
   "cell_type": "code",
   "execution_count": 204,
   "metadata": {},
   "outputs": [],
   "source": [
    "features = np.array(features).reshape(-1,96,96,1)\n",
    "test_features = np.array(test_features).reshape(-1,96,96,1)\n",
    "\n",
    "features = features/255\n",
    "test_features = test_features/255\n",
    "\n",
    "labels = np_utils.to_categorical(labels)\n",
    "labels_test =np_utils.to_categorical(labels_test)"
   ]
  },
  {
   "cell_type": "code",
   "execution_count": 205,
   "metadata": {},
   "outputs": [
    {
     "name": "stdout",
     "output_type": "stream",
     "text": [
      "Training features shape  (19960, 96, 96, 1)\n",
      "Training labels shape (19960, 7)\n",
      "Testing features shape  (2466, 96, 96, 1)\n",
      "Testing labels shape (2466, 7)\n"
     ]
    }
   ],
   "source": [
    "print('Training features shape ',features.shape)\n",
    "print('Training labels shape',labels.shape)\n",
    "print('Testing features shape ',test_features.shape)\n",
    "print('Testing labels shape',labels_test.shape)"
   ]
  },
  {
   "cell_type": "code",
   "execution_count": 206,
   "metadata": {},
   "outputs": [],
   "source": [
    "from keras.metrics import categorical_accuracy\n",
    "from keras.models import model_from_json\n",
    "from keras.callbacks import ModelCheckpoint\n",
    "from keras.optimizers import *\n",
    "from sklearn.metrics import accuracy_score\n",
    "from tensorflow.keras.datasets import mnist\n",
    "from tensorflow.python.keras.utils import np_utils\n",
    "from tensorflow.keras import Sequential\n",
    "from tensorflow.keras.layers import Input, Dense, Dropout, Activation, Flatten, Conv2D, BatchNormalization,MaxPooling2D\n",
    "from tensorflow.keras.optimizers import Adam, RMSprop"
   ]
  },
  {
   "cell_type": "code",
   "execution_count": 207,
   "metadata": {},
   "outputs": [],
   "source": [
    "def create_model():\n",
    "    model = Sequential()\n",
    "    input_shape = (96,96,1)\n",
    "    model.add(Conv2D(64, (5, 5), input_shape=input_shape,activation='relu', padding='same'))\n",
    "    model.add(Conv2D(64, (5, 5), activation='relu', padding='same'))\n",
    "    model.add(BatchNormalization())\n",
    "    model.add(MaxPooling2D(pool_size=(2, 2)))\n",
    "\n",
    "    model.add(Conv2D(128, (5, 5),activation='relu',padding='same'))\n",
    "    model.add(Conv2D(128, (5, 5),activation='relu',padding='same'))\n",
    "    model.add(BatchNormalization())\n",
    "    model.add(MaxPooling2D(pool_size=(2, 2)))\n",
    "\n",
    "    model.add(Conv2D(256, (3, 3),activation='relu',padding='same'))\n",
    "    model.add(Conv2D(256, (3, 3),activation='relu',padding='same'))\n",
    "    model.add(BatchNormalization())\n",
    "    model.add(MaxPooling2D(pool_size=(2, 2)))\n",
    "\n",
    "    model.add(Flatten())\n",
    "    model.add(Dense(128))\n",
    "    model.add(BatchNormalization())\n",
    "    model.add(Activation('relu'))\n",
    "    model.add(Dropout(0.2))\n",
    "    model.add(Dense(7))\n",
    "    model.add(Activation('softmax'))\n",
    "\n",
    "    model.compile(loss='categorical_crossentropy', metrics=['accuracy'],optimizer='adam')\n",
    "    return model"
   ]
  },
  {
   "cell_type": "code",
   "execution_count": 208,
   "metadata": {},
   "outputs": [],
   "source": [
    "model = create_model()"
   ]
  },
  {
   "cell_type": "code",
   "execution_count": 209,
   "metadata": {},
   "outputs": [
    {
     "name": "stdout",
     "output_type": "stream",
     "text": [
      "Model: \"sequential_2\"\n",
      "_________________________________________________________________\n",
      "Layer (type)                 Output Shape              Param #   \n",
      "=================================================================\n",
      "conv2d_12 (Conv2D)           (None, 96, 96, 64)        1664      \n",
      "_________________________________________________________________\n",
      "conv2d_13 (Conv2D)           (None, 96, 96, 64)        102464    \n",
      "_________________________________________________________________\n",
      "batch_normalization_8 (Batch (None, 96, 96, 64)        256       \n",
      "_________________________________________________________________\n",
      "max_pooling2d_6 (MaxPooling2 (None, 48, 48, 64)        0         \n",
      "_________________________________________________________________\n",
      "conv2d_14 (Conv2D)           (None, 48, 48, 128)       204928    \n",
      "_________________________________________________________________\n",
      "conv2d_15 (Conv2D)           (None, 48, 48, 128)       409728    \n",
      "_________________________________________________________________\n",
      "batch_normalization_9 (Batch (None, 48, 48, 128)       512       \n",
      "_________________________________________________________________\n",
      "max_pooling2d_7 (MaxPooling2 (None, 24, 24, 128)       0         \n",
      "_________________________________________________________________\n",
      "conv2d_16 (Conv2D)           (None, 24, 24, 256)       295168    \n",
      "_________________________________________________________________\n",
      "conv2d_17 (Conv2D)           (None, 24, 24, 256)       590080    \n",
      "_________________________________________________________________\n",
      "batch_normalization_10 (Batc (None, 24, 24, 256)       1024      \n",
      "_________________________________________________________________\n",
      "max_pooling2d_8 (MaxPooling2 (None, 12, 12, 256)       0         \n",
      "_________________________________________________________________\n",
      "flatten_2 (Flatten)          (None, 36864)             0         \n",
      "_________________________________________________________________\n",
      "dense_4 (Dense)              (None, 128)               4718720   \n",
      "_________________________________________________________________\n",
      "batch_normalization_11 (Batc (None, 128)               512       \n",
      "_________________________________________________________________\n",
      "activation_4 (Activation)    (None, 128)               0         \n",
      "_________________________________________________________________\n",
      "dropout_2 (Dropout)          (None, 128)               0         \n",
      "_________________________________________________________________\n",
      "dense_5 (Dense)              (None, 7)                 903       \n",
      "_________________________________________________________________\n",
      "activation_5 (Activation)    (None, 7)                 0         \n",
      "=================================================================\n",
      "Total params: 6,325,959\n",
      "Trainable params: 6,324,807\n",
      "Non-trainable params: 1,152\n",
      "_________________________________________________________________\n"
     ]
    }
   ],
   "source": [
    "model.summary()"
   ]
  },
  {
   "cell_type": "code",
   "execution_count": 210,
   "metadata": {},
   "outputs": [],
   "source": [
    "checkpoint_path = \"training_2/cp.ckpt\"\n",
    "checkpoint_dir = os.path.dirname(checkpoint_path)\n",
    "cp_callback = tf.keras.callbacks.ModelCheckpoint(filepath=checkpoint_path,\n",
    "                                                 save_weights_only=True,\n",
    "                                                 best_only_model=True,\n",
    "                                                 verbose=1)"
   ]
  },
  {
   "cell_type": "code",
   "execution_count": 211,
   "metadata": {},
   "outputs": [],
   "source": [
    "model.save_weights(checkpoint_path.format(epoch=0))"
   ]
  },
  {
   "cell_type": "code",
   "execution_count": 212,
   "metadata": {},
   "outputs": [
    {
     "name": "stdout",
     "output_type": "stream",
     "text": [
      "Epoch 1/10\n",
      "312/311 [==============================] - ETA: 0s - loss: 1.8273 - accuracy: 0.2729\n",
      "Epoch 00001: saving model to training_2\\cp.ckpt\n",
      "312/311 [==============================] - 2031s 7s/step - loss: 1.8273 - accuracy: 0.2729 - val_loss: 2.4671 - val_accuracy: 0.1225\n",
      "Epoch 2/10\n",
      "312/311 [==============================] - ETA: 0s - loss: 1.6433 - accuracy: 0.3541\n",
      "Epoch 00002: saving model to training_2\\cp.ckpt\n",
      "312/311 [==============================] - 1989s 6s/step - loss: 1.6433 - accuracy: 0.3541 - val_loss: 1.7065 - val_accuracy: 0.3317\n",
      "Epoch 3/10\n",
      "312/311 [==============================] - ETA: 0s - loss: 1.5008 - accuracy: 0.4231\n",
      "Epoch 00003: saving model to training_2\\cp.ckpt\n",
      "312/311 [==============================] - 2347s 8s/step - loss: 1.5008 - accuracy: 0.4231 - val_loss: 2.0967 - val_accuracy: 0.2920\n",
      "Epoch 4/10\n",
      "312/311 [==============================] - ETA: 0s - loss: 1.3363 - accuracy: 0.4988\n",
      "Epoch 00004: saving model to training_2\\cp.ckpt\n",
      "312/311 [==============================] - 2504s 8s/step - loss: 1.3363 - accuracy: 0.4988 - val_loss: 1.8515 - val_accuracy: 0.2976\n",
      "Epoch 5/10\n",
      "312/311 [==============================] - ETA: -1s - loss: 1.1745 - accuracy: 0.5681\n",
      "Epoch 00005: saving model to training_2\\cp.ckpt\n",
      "312/311 [==============================] - 2705s 9s/step - loss: 1.1745 - accuracy: 0.5681 - val_loss: 2.1981 - val_accuracy: 0.2835\n",
      "Epoch 6/10\n",
      "312/311 [==============================] - ETA: 0s - loss: 0.9810 - accuracy: 0.6437\n",
      "Epoch 00006: saving model to training_2\\cp.ckpt\n",
      "312/311 [==============================] - 2139s 7s/step - loss: 0.9810 - accuracy: 0.6437 - val_loss: 1.8840 - val_accuracy: 0.4181\n",
      "Epoch 7/10\n",
      "312/311 [==============================] - ETA: 0s - loss: 0.7578 - accuracy: 0.7332\n",
      "Epoch 00007: saving model to training_2\\cp.ckpt\n",
      "312/311 [==============================] - 2541s 8s/step - loss: 0.7578 - accuracy: 0.7332 - val_loss: 1.5280 - val_accuracy: 0.5000\n",
      "Epoch 8/10\n",
      "312/311 [==============================] - ETA: -1s - loss: 0.5241 - accuracy: 0.8244\n",
      "Epoch 00008: saving model to training_2\\cp.ckpt\n",
      "312/311 [==============================] - 3021s 10s/step - loss: 0.5241 - accuracy: 0.8244 - val_loss: 1.6709 - val_accuracy: 0.5089\n",
      "Epoch 9/10\n",
      "312/311 [==============================] - ETA: -1s - loss: 0.3376 - accuracy: 0.8953\n",
      "Epoch 00009: saving model to training_2\\cp.ckpt\n",
      "312/311 [==============================] - 2735s 9s/step - loss: 0.3376 - accuracy: 0.8953 - val_loss: 2.0302 - val_accuracy: 0.4745\n",
      "Epoch 10/10\n",
      "312/311 [==============================] - ETA: 0s - loss: 0.2184 - accuracy: 0.9367\n",
      "Epoch 00010: saving model to training_2\\cp.ckpt\n",
      "312/311 [==============================] - 2453s 8s/step - loss: 0.2184 - accuracy: 0.9367 - val_loss: 2.0314 - val_accuracy: 0.4882\n"
     ]
    },
    {
     "data": {
      "text/plain": [
       "<tensorflow.python.keras.callbacks.History at 0x1fa541cc748>"
      ]
     },
     "execution_count": 212,
     "metadata": {},
     "output_type": "execute_result"
    }
   ],
   "source": [
    "model.fit(x=features, \n",
    "            y=labels,\n",
    "            epochs=10, \n",
    "            steps_per_epoch = len(features)/64,\n",
    "            verbose=1, \n",
    "            callbacks = [cp_callback],\n",
    "            validation_data=(test_features,labels_test),  \n",
    "            validation_steps = len(test_features)/64)\n"
   ]
  },
  {
   "cell_type": "code",
   "execution_count": 219,
   "metadata": {},
   "outputs": [
    {
     "data": {
      "text/plain": [
       "<tensorflow.python.training.tracking.util.CheckpointLoadStatus at 0x1fa56111bc8>"
      ]
     },
     "execution_count": 219,
     "metadata": {},
     "output_type": "execute_result"
    }
   ],
   "source": [
    "latest = tf.train.latest_checkpoint(checkpoint_dir)\n",
    "model.load_weights(latest)"
   ]
  },
  {
   "cell_type": "code",
   "execution_count": 220,
   "metadata": {},
   "outputs": [],
   "source": [
    "cp_callback = tf.keras.callbacks.ModelCheckpoint(filepath=checkpoint_path,\n",
    "                                                 save_weights_only=True,\n",
    "                                                 best_only_model=True,\n",
    "                                                 verbose=1)"
   ]
  },
  {
   "cell_type": "code",
   "execution_count": 221,
   "metadata": {},
   "outputs": [
    {
     "name": "stdout",
     "output_type": "stream",
     "text": [
      "Epoch 1/10\n",
      "312/311 [==============================] - ETA: 0s - loss: 0.1466 - accuracy: 0.9619\n",
      "Epoch 00001: saving model to training_2\\cp.ckpt\n",
      "312/311 [==============================] - 1990s 6s/step - loss: 0.1466 - accuracy: 0.9619 - val_loss: 2.0476 - val_accuracy: 0.5065\n",
      "Epoch 2/10\n",
      "312/311 [==============================] - ETA: 0s - loss: 0.1121 - accuracy: 0.9707\n",
      "Epoch 00002: saving model to training_2\\cp.ckpt\n",
      "312/311 [==============================] - 1971s 6s/step - loss: 0.1121 - accuracy: 0.9707 - val_loss: 2.3347 - val_accuracy: 0.4891\n",
      "Epoch 3/10\n",
      "312/311 [==============================] - ETA: 0s - loss: 0.0870 - accuracy: 0.9784\n",
      "Epoch 00003: saving model to training_2\\cp.ckpt\n",
      "312/311 [==============================] - 2080s 7s/step - loss: 0.0870 - accuracy: 0.9784 - val_loss: 2.2728 - val_accuracy: 0.5118\n",
      "Epoch 4/10\n",
      "312/311 [==============================] - ETA: 0s - loss: 0.0859 - accuracy: 0.9768\n",
      "Epoch 00004: saving model to training_2\\cp.ckpt\n",
      "312/311 [==============================] - 2079s 7s/step - loss: 0.0859 - accuracy: 0.9768 - val_loss: 2.8018 - val_accuracy: 0.5032\n",
      "Epoch 5/10\n",
      "312/311 [==============================] - ETA: 0s - loss: 0.0952 - accuracy: 0.9719\n",
      "Epoch 00005: saving model to training_2\\cp.ckpt\n",
      "312/311 [==============================] - 1974s 6s/step - loss: 0.0952 - accuracy: 0.9719 - val_loss: 2.7817 - val_accuracy: 0.4440\n",
      "Epoch 6/10\n",
      "312/311 [==============================] - ETA: 0s - loss: 0.0843 - accuracy: 0.9754\n",
      "Epoch 00006: saving model to training_2\\cp.ckpt\n",
      "312/311 [==============================] - 1964s 6s/step - loss: 0.0843 - accuracy: 0.9754 - val_loss: 2.7504 - val_accuracy: 0.4955\n",
      "Epoch 7/10\n",
      "312/311 [==============================] - ETA: 0s - loss: 0.0691 - accuracy: 0.9801\n",
      "Epoch 00007: saving model to training_2\\cp.ckpt\n",
      "312/311 [==============================] - 1972s 6s/step - loss: 0.0691 - accuracy: 0.9801 - val_loss: 2.6767 - val_accuracy: 0.4850\n",
      "Epoch 8/10\n",
      "312/311 [==============================] - ETA: 0s - loss: 0.0727 - accuracy: 0.9791\n",
      "Epoch 00008: saving model to training_2\\cp.ckpt\n",
      "312/311 [==============================] - 1960s 6s/step - loss: 0.0727 - accuracy: 0.9791 - val_loss: 2.7120 - val_accuracy: 0.5077\n",
      "Epoch 9/10\n",
      "312/311 [==============================] - ETA: 0s - loss: 0.0639 - accuracy: 0.9824\n",
      "Epoch 00009: saving model to training_2\\cp.ckpt\n",
      "312/311 [==============================] - 1966s 6s/step - loss: 0.0639 - accuracy: 0.9824 - val_loss: 2.9903 - val_accuracy: 0.4745\n",
      "Epoch 10/10\n",
      "312/311 [==============================] - ETA: 0s - loss: 0.0621 - accuracy: 0.9820\n",
      "Epoch 00010: saving model to training_2\\cp.ckpt\n",
      "312/311 [==============================] - 1963s 6s/step - loss: 0.0621 - accuracy: 0.9820 - val_loss: 2.9398 - val_accuracy: 0.5020\n"
     ]
    },
    {
     "data": {
      "text/plain": [
       "<tensorflow.python.keras.callbacks.History at 0x1fa41cc4248>"
      ]
     },
     "execution_count": 221,
     "metadata": {},
     "output_type": "execute_result"
    }
   ],
   "source": [
    "model.fit(x=features, \n",
    "            y=labels,\n",
    "            epochs=10, \n",
    "            steps_per_epoch = len(features)/64,\n",
    "            verbose=1, \n",
    "            callbacks = [cp_callback],\n",
    "            validation_data=(test_features,labels_test),  \n",
    "            validation_steps = len(test_features)/64)"
   ]
  },
  {
   "cell_type": "code",
   "execution_count": 218,
   "metadata": {},
   "outputs": [
    {
     "data": {
      "text/plain": [
       "<tensorflow.python.training.tracking.util.CheckpointLoadStatus at 0x244ce4a6888>"
      ]
     },
     "execution_count": 218,
     "metadata": {},
     "output_type": "execute_result"
    }
   ],
   "source": [
    "latest = tf.train.latest_checkpoint(checkpoint_dir)\n",
    "model.load_weights(latest)"
   ]
  },
  {
   "cell_type": "code",
   "execution_count": 219,
   "metadata": {},
   "outputs": [],
   "source": [
    "cp_callback = tf.keras.callbacks.ModelCheckpoint(filepath=checkpoint_path,\n",
    "                                                 save_weights_only=True,\n",
    "                                                 best_only_model=True,\n",
    "                                                 verbose=1)"
   ]
  },
  {
   "cell_type": "code",
   "execution_count": 220,
   "metadata": {},
   "outputs": [
    {
     "name": "stdout",
     "output_type": "stream",
     "text": [
      "449/448 [==============================] - ETA: 0s - loss: 0.0771 - accuracy: 0.9743\n",
      "Epoch 00001: saving model to training_2\\cp.ckpt\n",
      "449/448 [==============================] - 773s 2s/step - loss: 0.0771 - accuracy: 0.9743 - val_loss: 2.7980 - val_accuracy: 0.5252\n"
     ]
    },
    {
     "data": {
      "text/plain": [
       "<tensorflow.python.keras.callbacks.History at 0x244ce499688>"
      ]
     },
     "execution_count": 220,
     "metadata": {},
     "output_type": "execute_result"
    }
   ],
   "source": [
    "model.fit(x=features, \n",
    "            y=labels,\n",
    "            epochs=1, \n",
    "            steps_per_epoch = len(features)/64,\n",
    "            verbose=1, \n",
    "            callbacks = [cp_callback],\n",
    "            validation_data=(test_features,labels_test),  \n",
    "            validation_steps = len(test_features)/64)"
   ]
  },
  {
   "cell_type": "code",
   "execution_count": null,
   "metadata": {},
   "outputs": [],
   "source": []
  },
  {
   "cell_type": "code",
   "execution_count": 222,
   "metadata": {},
   "outputs": [
    {
     "name": "stderr",
     "output_type": "stream",
     "text": [
      "A subdirectory or file -p already exists.\n",
      "Error occurred while processing: -p.\n",
      "A subdirectory or file saved_model already exists.\n",
      "Error occurred while processing: saved_model.\n"
     ]
    }
   ],
   "source": [
    "!mkdir -p saved_model\n",
    "model.save('saved_model/my_model')"
   ]
  },
  {
   "cell_type": "code",
   "execution_count": null,
   "metadata": {},
   "outputs": [],
   "source": [
    "from sklearn.externals import joblib \n",
    "joblib.dump(model, 'modelo_entrenado.pkl') "
   ]
  },
  {
   "cell_type": "code",
   "execution_count": 223,
   "metadata": {},
   "outputs": [],
   "source": [
    "new_model = tf.keras.models.load_model('saved_model/my_model')"
   ]
  },
  {
   "cell_type": "code",
   "execution_count": 224,
   "metadata": {},
   "outputs": [
    {
     "name": "stdout",
     "output_type": "stream",
     "text": [
      "78/78 - 54s - loss: 2.9398 - accuracy: 0.5020\n",
      "Restored model, accuracy: 50.20%\n"
     ]
    }
   ],
   "source": [
    "loss, acc = new_model.evaluate(test_features, labels_test, verbose=2)\n",
    "print(\"Restored model, accuracy: {:5.2f}%\".format(100 * acc))"
   ]
  },
  {
   "cell_type": "code",
   "execution_count": 225,
   "metadata": {},
   "outputs": [
    {
     "name": "stdout",
     "output_type": "stream",
     "text": [
      "CNN Model Accuracy on testing data: 0.5020\n"
     ]
    }
   ],
   "source": [
    "test_true = np.argmax(labels_test, axis=1)\n",
    "test_pred = np.argmax(model.predict(test_features), axis=1)\n",
    "print(\"CNN Model Accuracy on testing data: {:.4f}\".format(accuracy_score(test_true, test_pred)))"
   ]
  },
  {
   "cell_type": "code",
   "execution_count": null,
   "metadata": {},
   "outputs": [],
   "source": []
  }
 ],
 "metadata": {
  "colab": {
   "collapsed_sections": [],
   "name": "AISaturdays_ChallengeSession5.ipynb",
   "provenance": [
    {
     "file_id": "1eDULJv1udQFKK4WLY0M_f9jBxibhzmXs",
     "timestamp": 1583527306059
    }
   ]
  },
  "kernelspec": {
   "display_name": "Python 3",
   "language": "python",
   "name": "python3"
  },
  "language_info": {
   "codemirror_mode": {
    "name": "ipython",
    "version": 3
   },
   "file_extension": ".py",
   "mimetype": "text/x-python",
   "name": "python",
   "nbconvert_exporter": "python",
   "pygments_lexer": "ipython3",
   "version": "3.6.13"
  },
  "widgets": {
   "application/vnd.jupyter.widget-state+json": {
    "state": {},
    "version_major": 2,
    "version_minor": 0
   }
  }
 },
 "nbformat": 4,
 "nbformat_minor": 1
}
